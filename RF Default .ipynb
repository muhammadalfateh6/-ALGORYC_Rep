{
 "cells": [
  {
   "cell_type": "code",
   "execution_count": 1,
   "id": "10c43e1d",
   "metadata": {},
   "outputs": [
    {
     "data": {
      "text/html": [
       "<div>\n",
       "<style scoped>\n",
       "    .dataframe tbody tr th:only-of-type {\n",
       "        vertical-align: middle;\n",
       "    }\n",
       "\n",
       "    .dataframe tbody tr th {\n",
       "        vertical-align: top;\n",
       "    }\n",
       "\n",
       "    .dataframe thead th {\n",
       "        text-align: right;\n",
       "    }\n",
       "</style>\n",
       "<table border=\"1\" class=\"dataframe\">\n",
       "  <thead>\n",
       "    <tr style=\"text-align: right;\">\n",
       "      <th></th>\n",
       "      <th>user_behavior</th>\n",
       "      <th>business_performance</th>\n",
       "      <th>value</th>\n",
       "      <th>business_reviews</th>\n",
       "      <th>business_rating</th>\n",
       "      <th>suburb_name_encoded</th>\n",
       "      <th>business_category_encoded</th>\n",
       "    </tr>\n",
       "  </thead>\n",
       "  <tbody>\n",
       "    <tr>\n",
       "      <th>0</th>\n",
       "      <td>0</td>\n",
       "      <td>1.0</td>\n",
       "      <td>0.75</td>\n",
       "      <td>0.601</td>\n",
       "      <td>0.130326</td>\n",
       "      <td>0.0</td>\n",
       "      <td>9</td>\n",
       "    </tr>\n",
       "    <tr>\n",
       "      <th>1</th>\n",
       "      <td>1</td>\n",
       "      <td>1.0</td>\n",
       "      <td>0.50</td>\n",
       "      <td>0.346</td>\n",
       "      <td>0.095238</td>\n",
       "      <td>0.0</td>\n",
       "      <td>21</td>\n",
       "    </tr>\n",
       "    <tr>\n",
       "      <th>2</th>\n",
       "      <td>0</td>\n",
       "      <td>0.5</td>\n",
       "      <td>0.00</td>\n",
       "      <td>0.380</td>\n",
       "      <td>0.248120</td>\n",
       "      <td>0.0</td>\n",
       "      <td>11</td>\n",
       "    </tr>\n",
       "    <tr>\n",
       "      <th>3</th>\n",
       "      <td>0</td>\n",
       "      <td>1.0</td>\n",
       "      <td>0.75</td>\n",
       "      <td>0.601</td>\n",
       "      <td>0.130326</td>\n",
       "      <td>0.0</td>\n",
       "      <td>9</td>\n",
       "    </tr>\n",
       "    <tr>\n",
       "      <th>4</th>\n",
       "      <td>1</td>\n",
       "      <td>0.5</td>\n",
       "      <td>1.00</td>\n",
       "      <td>0.802</td>\n",
       "      <td>0.709273</td>\n",
       "      <td>0.0</td>\n",
       "      <td>22</td>\n",
       "    </tr>\n",
       "    <tr>\n",
       "      <th>...</th>\n",
       "      <td>...</td>\n",
       "      <td>...</td>\n",
       "      <td>...</td>\n",
       "      <td>...</td>\n",
       "      <td>...</td>\n",
       "      <td>...</td>\n",
       "      <td>...</td>\n",
       "    </tr>\n",
       "    <tr>\n",
       "      <th>480495</th>\n",
       "      <td>0</td>\n",
       "      <td>1.0</td>\n",
       "      <td>0.50</td>\n",
       "      <td>0.427</td>\n",
       "      <td>0.285714</td>\n",
       "      <td>1.0</td>\n",
       "      <td>46</td>\n",
       "    </tr>\n",
       "    <tr>\n",
       "      <th>480496</th>\n",
       "      <td>0</td>\n",
       "      <td>1.0</td>\n",
       "      <td>0.50</td>\n",
       "      <td>0.396</td>\n",
       "      <td>0.736842</td>\n",
       "      <td>1.0</td>\n",
       "      <td>31</td>\n",
       "    </tr>\n",
       "    <tr>\n",
       "      <th>480497</th>\n",
       "      <td>1</td>\n",
       "      <td>0.0</td>\n",
       "      <td>1.00</td>\n",
       "      <td>0.631</td>\n",
       "      <td>0.288221</td>\n",
       "      <td>1.0</td>\n",
       "      <td>17</td>\n",
       "    </tr>\n",
       "    <tr>\n",
       "      <th>480498</th>\n",
       "      <td>1</td>\n",
       "      <td>0.0</td>\n",
       "      <td>0.50</td>\n",
       "      <td>0.890</td>\n",
       "      <td>0.962406</td>\n",
       "      <td>1.0</td>\n",
       "      <td>5</td>\n",
       "    </tr>\n",
       "    <tr>\n",
       "      <th>480499</th>\n",
       "      <td>1</td>\n",
       "      <td>0.0</td>\n",
       "      <td>0.25</td>\n",
       "      <td>0.141</td>\n",
       "      <td>0.937343</td>\n",
       "      <td>1.0</td>\n",
       "      <td>12</td>\n",
       "    </tr>\n",
       "  </tbody>\n",
       "</table>\n",
       "<p>480500 rows × 7 columns</p>\n",
       "</div>"
      ],
      "text/plain": [
       "        user_behavior  business_performance  value  business_reviews  \\\n",
       "0                   0                   1.0   0.75             0.601   \n",
       "1                   1                   1.0   0.50             0.346   \n",
       "2                   0                   0.5   0.00             0.380   \n",
       "3                   0                   1.0   0.75             0.601   \n",
       "4                   1                   0.5   1.00             0.802   \n",
       "...               ...                   ...    ...               ...   \n",
       "480495              0                   1.0   0.50             0.427   \n",
       "480496              0                   1.0   0.50             0.396   \n",
       "480497              1                   0.0   1.00             0.631   \n",
       "480498              1                   0.0   0.50             0.890   \n",
       "480499              1                   0.0   0.25             0.141   \n",
       "\n",
       "        business_rating  suburb_name_encoded  business_category_encoded  \n",
       "0              0.130326                  0.0                          9  \n",
       "1              0.095238                  0.0                         21  \n",
       "2              0.248120                  0.0                         11  \n",
       "3              0.130326                  0.0                          9  \n",
       "4              0.709273                  0.0                         22  \n",
       "...                 ...                  ...                        ...  \n",
       "480495         0.285714                  1.0                         46  \n",
       "480496         0.736842                  1.0                         31  \n",
       "480497         0.288221                  1.0                         17  \n",
       "480498         0.962406                  1.0                          5  \n",
       "480499         0.937343                  1.0                         12  \n",
       "\n",
       "[480500 rows x 7 columns]"
      ]
     },
     "execution_count": 1,
     "metadata": {},
     "output_type": "execute_result"
    }
   ],
   "source": [
    "import pandas as pd\n",
    "import numpy as np\n",
    "import matplotlib.pyplot as plt\n",
    "import seaborn as sns\n",
    "from sklearn.neural_network import MLPClassifier\n",
    "from sklearn.model_selection import train_test_split\n",
    "from sklearn.metrics import classification_report, accuracy_score, f1_score, precision_score, recall_score, confusion_matrix\n",
    "from sklearn.ensemble import RandomForestClassifier\n",
    "from xgboost import XGBClassifier\n",
    "\n",
    "data = pd.read_csv('Ready_Business_data.csv')\n",
    "data1 = data.drop(columns=['Unnamed: 0'])\n",
    "data1"
   ]
  },
  {
   "cell_type": "code",
   "execution_count": 2,
   "id": "c830f8e7",
   "metadata": {},
   "outputs": [],
   "source": [
    "cols_to_noise=['business_reviews','business_rating']\n",
    "noise_std= 0.1\n",
    "\n",
    "mask = np.zeros(len(data1), dtype=bool)\n",
    "mask[:25000] = True\n",
    "np.random.shuffle(mask)\n",
    "\n",
    "noise = np.zeros((len(data1), len(cols_to_noise)))\n",
    "noise[mask, :] = np.random.normal(scale=noise_std, size=(mask.sum(), len(cols_to_noise)))\n",
    "data1.loc[mask, cols_to_noise] += noise[mask, :]\n",
    "\n",
    "data1.to_csv('noisy_datav4.csv', index=False)"
   ]
  },
  {
   "cell_type": "code",
   "execution_count": 3,
   "id": "42652bcf",
   "metadata": {},
   "outputs": [
    {
     "data": {
      "text/html": [
       "<div>\n",
       "<style scoped>\n",
       "    .dataframe tbody tr th:only-of-type {\n",
       "        vertical-align: middle;\n",
       "    }\n",
       "\n",
       "    .dataframe tbody tr th {\n",
       "        vertical-align: top;\n",
       "    }\n",
       "\n",
       "    .dataframe thead th {\n",
       "        text-align: right;\n",
       "    }\n",
       "</style>\n",
       "<table border=\"1\" class=\"dataframe\">\n",
       "  <thead>\n",
       "    <tr style=\"text-align: right;\">\n",
       "      <th></th>\n",
       "      <th>user_behavior</th>\n",
       "      <th>business_performance</th>\n",
       "      <th>value</th>\n",
       "      <th>business_reviews</th>\n",
       "      <th>business_rating</th>\n",
       "      <th>suburb_name_encoded</th>\n",
       "      <th>business_category_encoded</th>\n",
       "    </tr>\n",
       "  </thead>\n",
       "  <tbody>\n",
       "    <tr>\n",
       "      <th>0</th>\n",
       "      <td>0</td>\n",
       "      <td>1.0</td>\n",
       "      <td>0.75</td>\n",
       "      <td>0.601</td>\n",
       "      <td>0.130326</td>\n",
       "      <td>0.0</td>\n",
       "      <td>9</td>\n",
       "    </tr>\n",
       "    <tr>\n",
       "      <th>1</th>\n",
       "      <td>1</td>\n",
       "      <td>1.0</td>\n",
       "      <td>0.50</td>\n",
       "      <td>0.346</td>\n",
       "      <td>0.095238</td>\n",
       "      <td>0.0</td>\n",
       "      <td>21</td>\n",
       "    </tr>\n",
       "    <tr>\n",
       "      <th>2</th>\n",
       "      <td>0</td>\n",
       "      <td>0.5</td>\n",
       "      <td>0.00</td>\n",
       "      <td>0.380</td>\n",
       "      <td>0.248120</td>\n",
       "      <td>0.0</td>\n",
       "      <td>11</td>\n",
       "    </tr>\n",
       "    <tr>\n",
       "      <th>3</th>\n",
       "      <td>0</td>\n",
       "      <td>1.0</td>\n",
       "      <td>0.75</td>\n",
       "      <td>0.601</td>\n",
       "      <td>0.130326</td>\n",
       "      <td>0.0</td>\n",
       "      <td>9</td>\n",
       "    </tr>\n",
       "    <tr>\n",
       "      <th>4</th>\n",
       "      <td>1</td>\n",
       "      <td>0.5</td>\n",
       "      <td>1.00</td>\n",
       "      <td>0.802</td>\n",
       "      <td>0.709273</td>\n",
       "      <td>0.0</td>\n",
       "      <td>22</td>\n",
       "    </tr>\n",
       "    <tr>\n",
       "      <th>...</th>\n",
       "      <td>...</td>\n",
       "      <td>...</td>\n",
       "      <td>...</td>\n",
       "      <td>...</td>\n",
       "      <td>...</td>\n",
       "      <td>...</td>\n",
       "      <td>...</td>\n",
       "    </tr>\n",
       "    <tr>\n",
       "      <th>480495</th>\n",
       "      <td>0</td>\n",
       "      <td>1.0</td>\n",
       "      <td>0.50</td>\n",
       "      <td>0.427</td>\n",
       "      <td>0.285714</td>\n",
       "      <td>1.0</td>\n",
       "      <td>46</td>\n",
       "    </tr>\n",
       "    <tr>\n",
       "      <th>480496</th>\n",
       "      <td>0</td>\n",
       "      <td>1.0</td>\n",
       "      <td>0.50</td>\n",
       "      <td>0.396</td>\n",
       "      <td>0.736842</td>\n",
       "      <td>1.0</td>\n",
       "      <td>31</td>\n",
       "    </tr>\n",
       "    <tr>\n",
       "      <th>480497</th>\n",
       "      <td>1</td>\n",
       "      <td>0.0</td>\n",
       "      <td>1.00</td>\n",
       "      <td>0.631</td>\n",
       "      <td>0.288221</td>\n",
       "      <td>1.0</td>\n",
       "      <td>17</td>\n",
       "    </tr>\n",
       "    <tr>\n",
       "      <th>480498</th>\n",
       "      <td>1</td>\n",
       "      <td>0.0</td>\n",
       "      <td>0.50</td>\n",
       "      <td>0.890</td>\n",
       "      <td>0.962406</td>\n",
       "      <td>1.0</td>\n",
       "      <td>5</td>\n",
       "    </tr>\n",
       "    <tr>\n",
       "      <th>480499</th>\n",
       "      <td>1</td>\n",
       "      <td>0.0</td>\n",
       "      <td>0.25</td>\n",
       "      <td>0.141</td>\n",
       "      <td>0.937343</td>\n",
       "      <td>1.0</td>\n",
       "      <td>12</td>\n",
       "    </tr>\n",
       "  </tbody>\n",
       "</table>\n",
       "<p>480500 rows × 7 columns</p>\n",
       "</div>"
      ],
      "text/plain": [
       "        user_behavior  business_performance  value  business_reviews  \\\n",
       "0                   0                   1.0   0.75             0.601   \n",
       "1                   1                   1.0   0.50             0.346   \n",
       "2                   0                   0.5   0.00             0.380   \n",
       "3                   0                   1.0   0.75             0.601   \n",
       "4                   1                   0.5   1.00             0.802   \n",
       "...               ...                   ...    ...               ...   \n",
       "480495              0                   1.0   0.50             0.427   \n",
       "480496              0                   1.0   0.50             0.396   \n",
       "480497              1                   0.0   1.00             0.631   \n",
       "480498              1                   0.0   0.50             0.890   \n",
       "480499              1                   0.0   0.25             0.141   \n",
       "\n",
       "        business_rating  suburb_name_encoded  business_category_encoded  \n",
       "0              0.130326                  0.0                          9  \n",
       "1              0.095238                  0.0                         21  \n",
       "2              0.248120                  0.0                         11  \n",
       "3              0.130326                  0.0                          9  \n",
       "4              0.709273                  0.0                         22  \n",
       "...                 ...                  ...                        ...  \n",
       "480495         0.285714                  1.0                         46  \n",
       "480496         0.736842                  1.0                         31  \n",
       "480497         0.288221                  1.0                         17  \n",
       "480498         0.962406                  1.0                          5  \n",
       "480499         0.937343                  1.0                         12  \n",
       "\n",
       "[480500 rows x 7 columns]"
      ]
     },
     "execution_count": 3,
     "metadata": {},
     "output_type": "execute_result"
    }
   ],
   "source": [
    "noisy_df = pd.read_csv('noisy_datav4.csv')\n",
    "noisy_df"
   ]
  },
  {
   "cell_type": "code",
   "execution_count": 4,
   "id": "e2050acf",
   "metadata": {},
   "outputs": [],
   "source": [
    "x = noisy_df.drop(columns=['business_category_encoded'])\n",
    "#col = ['business_category_encoded']\n",
    "y = noisy_df['business_category_encoded']"
   ]
  },
  {
   "cell_type": "code",
   "execution_count": 5,
   "id": "b53ab8ce",
   "metadata": {},
   "outputs": [],
   "source": [
    "x_train, x_test, y_train, y_test =train_test_split(x, y, test_size=0.2)"
   ]
  },
  {
   "cell_type": "code",
   "execution_count": null,
   "id": "56223632",
   "metadata": {},
   "outputs": [],
   "source": [
    "model_rf = RandomForestClassifier()\n",
    "model_rf.fit(x_train, y_train)"
   ]
  },
  {
   "cell_type": "code",
   "execution_count": null,
   "id": "11be650a",
   "metadata": {},
   "outputs": [],
   "source": [
    "pred = model_rf.predict(x_test)"
   ]
  },
  {
   "cell_type": "code",
   "execution_count": null,
   "id": "d3275140",
   "metadata": {},
   "outputs": [],
   "source": [
    "print('Avg Accuracy:  ',accuracy_score(predicted, y2))\n",
    "print('Avg Precision: ', precision_score(predicted,y2,pos_label='positive',average='micro'))\n",
    "print('Avg Recall:    ',recall_score(predicted,y2, pos_label='positive',average='micro'))\n",
    "print('Avg F1-Score:  ',f1_score(predicted,y2,  pos_label='positive', average='micro'))"
   ]
  },
  {
   "cell_type": "code",
   "execution_count": null,
   "id": "540d357c",
   "metadata": {
    "scrolled": false
   },
   "outputs": [],
   "source": [
    "cm =confusion_matrix(y_test, pred)\n",
    "sns.set(style='white', palette='Blues',rc={'figure.figsize':(35,35)})\n",
    "sns.heatmap(cm, annot=True)"
   ]
  },
  {
   "cell_type": "code",
   "execution_count": 6,
   "id": "cd62a9d2",
   "metadata": {},
   "outputs": [
    {
     "data": {
      "text/html": [
       "<style>#sk-container-id-1 {color: black;background-color: white;}#sk-container-id-1 pre{padding: 0;}#sk-container-id-1 div.sk-toggleable {background-color: white;}#sk-container-id-1 label.sk-toggleable__label {cursor: pointer;display: block;width: 100%;margin-bottom: 0;padding: 0.3em;box-sizing: border-box;text-align: center;}#sk-container-id-1 label.sk-toggleable__label-arrow:before {content: \"▸\";float: left;margin-right: 0.25em;color: #696969;}#sk-container-id-1 label.sk-toggleable__label-arrow:hover:before {color: black;}#sk-container-id-1 div.sk-estimator:hover label.sk-toggleable__label-arrow:before {color: black;}#sk-container-id-1 div.sk-toggleable__content {max-height: 0;max-width: 0;overflow: hidden;text-align: left;background-color: #f0f8ff;}#sk-container-id-1 div.sk-toggleable__content pre {margin: 0.2em;color: black;border-radius: 0.25em;background-color: #f0f8ff;}#sk-container-id-1 input.sk-toggleable__control:checked~div.sk-toggleable__content {max-height: 200px;max-width: 100%;overflow: auto;}#sk-container-id-1 input.sk-toggleable__control:checked~label.sk-toggleable__label-arrow:before {content: \"▾\";}#sk-container-id-1 div.sk-estimator input.sk-toggleable__control:checked~label.sk-toggleable__label {background-color: #d4ebff;}#sk-container-id-1 div.sk-label input.sk-toggleable__control:checked~label.sk-toggleable__label {background-color: #d4ebff;}#sk-container-id-1 input.sk-hidden--visually {border: 0;clip: rect(1px 1px 1px 1px);clip: rect(1px, 1px, 1px, 1px);height: 1px;margin: -1px;overflow: hidden;padding: 0;position: absolute;width: 1px;}#sk-container-id-1 div.sk-estimator {font-family: monospace;background-color: #f0f8ff;border: 1px dotted black;border-radius: 0.25em;box-sizing: border-box;margin-bottom: 0.5em;}#sk-container-id-1 div.sk-estimator:hover {background-color: #d4ebff;}#sk-container-id-1 div.sk-parallel-item::after {content: \"\";width: 100%;border-bottom: 1px solid gray;flex-grow: 1;}#sk-container-id-1 div.sk-label:hover label.sk-toggleable__label {background-color: #d4ebff;}#sk-container-id-1 div.sk-serial::before {content: \"\";position: absolute;border-left: 1px solid gray;box-sizing: border-box;top: 0;bottom: 0;left: 50%;z-index: 0;}#sk-container-id-1 div.sk-serial {display: flex;flex-direction: column;align-items: center;background-color: white;padding-right: 0.2em;padding-left: 0.2em;position: relative;}#sk-container-id-1 div.sk-item {position: relative;z-index: 1;}#sk-container-id-1 div.sk-parallel {display: flex;align-items: stretch;justify-content: center;background-color: white;position: relative;}#sk-container-id-1 div.sk-item::before, #sk-container-id-1 div.sk-parallel-item::before {content: \"\";position: absolute;border-left: 1px solid gray;box-sizing: border-box;top: 0;bottom: 0;left: 50%;z-index: -1;}#sk-container-id-1 div.sk-parallel-item {display: flex;flex-direction: column;z-index: 1;position: relative;background-color: white;}#sk-container-id-1 div.sk-parallel-item:first-child::after {align-self: flex-end;width: 50%;}#sk-container-id-1 div.sk-parallel-item:last-child::after {align-self: flex-start;width: 50%;}#sk-container-id-1 div.sk-parallel-item:only-child::after {width: 0;}#sk-container-id-1 div.sk-dashed-wrapped {border: 1px dashed gray;margin: 0 0.4em 0.5em 0.4em;box-sizing: border-box;padding-bottom: 0.4em;background-color: white;}#sk-container-id-1 div.sk-label label {font-family: monospace;font-weight: bold;display: inline-block;line-height: 1.2em;}#sk-container-id-1 div.sk-label-container {text-align: center;}#sk-container-id-1 div.sk-container {/* jupyter's `normalize.less` sets `[hidden] { display: none; }` but bootstrap.min.css set `[hidden] { display: none !important; }` so we also need the `!important` here to be able to override the default hidden behavior on the sphinx rendered scikit-learn.org. See: https://github.com/scikit-learn/scikit-learn/issues/21755 */display: inline-block !important;position: relative;}#sk-container-id-1 div.sk-text-repr-fallback {display: none;}</style><div id=\"sk-container-id-1\" class=\"sk-top-container\"><div class=\"sk-text-repr-fallback\"><pre>XGBClassifier(base_score=None, booster=None, callbacks=None,\n",
       "              colsample_bylevel=None, colsample_bynode=None,\n",
       "              colsample_bytree=None, early_stopping_rounds=None,\n",
       "              enable_categorical=False, eval_metric=None, feature_types=None,\n",
       "              gamma=None, gpu_id=None, grow_policy=None, importance_type=None,\n",
       "              interaction_constraints=None, learning_rate=None, max_bin=None,\n",
       "              max_cat_threshold=None, max_cat_to_onehot=None,\n",
       "              max_delta_step=None, max_depth=None, max_leaves=None,\n",
       "              min_child_weight=None, missing=nan, monotone_constraints=None,\n",
       "              n_estimators=100, n_jobs=None, num_parallel_tree=None,\n",
       "              objective=&#x27;multi:softprob&#x27;, predictor=None, ...)</pre><b>In a Jupyter environment, please rerun this cell to show the HTML representation or trust the notebook. <br />On GitHub, the HTML representation is unable to render, please try loading this page with nbviewer.org.</b></div><div class=\"sk-container\" hidden><div class=\"sk-item\"><div class=\"sk-estimator sk-toggleable\"><input class=\"sk-toggleable__control sk-hidden--visually\" id=\"sk-estimator-id-1\" type=\"checkbox\" checked><label for=\"sk-estimator-id-1\" class=\"sk-toggleable__label sk-toggleable__label-arrow\">XGBClassifier</label><div class=\"sk-toggleable__content\"><pre>XGBClassifier(base_score=None, booster=None, callbacks=None,\n",
       "              colsample_bylevel=None, colsample_bynode=None,\n",
       "              colsample_bytree=None, early_stopping_rounds=None,\n",
       "              enable_categorical=False, eval_metric=None, feature_types=None,\n",
       "              gamma=None, gpu_id=None, grow_policy=None, importance_type=None,\n",
       "              interaction_constraints=None, learning_rate=None, max_bin=None,\n",
       "              max_cat_threshold=None, max_cat_to_onehot=None,\n",
       "              max_delta_step=None, max_depth=None, max_leaves=None,\n",
       "              min_child_weight=None, missing=nan, monotone_constraints=None,\n",
       "              n_estimators=100, n_jobs=None, num_parallel_tree=None,\n",
       "              objective=&#x27;multi:softprob&#x27;, predictor=None, ...)</pre></div></div></div></div></div>"
      ],
      "text/plain": [
       "XGBClassifier(base_score=None, booster=None, callbacks=None,\n",
       "              colsample_bylevel=None, colsample_bynode=None,\n",
       "              colsample_bytree=None, early_stopping_rounds=None,\n",
       "              enable_categorical=False, eval_metric=None, feature_types=None,\n",
       "              gamma=None, gpu_id=None, grow_policy=None, importance_type=None,\n",
       "              interaction_constraints=None, learning_rate=None, max_bin=None,\n",
       "              max_cat_threshold=None, max_cat_to_onehot=None,\n",
       "              max_delta_step=None, max_depth=None, max_leaves=None,\n",
       "              min_child_weight=None, missing=nan, monotone_constraints=None,\n",
       "              n_estimators=100, n_jobs=None, num_parallel_tree=None,\n",
       "              objective='multi:softprob', predictor=None, ...)"
      ]
     },
     "execution_count": 6,
     "metadata": {},
     "output_type": "execute_result"
    }
   ],
   "source": [
    "model_xg=XGBClassifier()\n",
    "model_xg.fit(x_train, y_train)"
   ]
  },
  {
   "cell_type": "code",
   "execution_count": 7,
   "id": "7137b815",
   "metadata": {},
   "outputs": [
    {
     "name": "stdout",
     "output_type": "stream",
     "text": [
      "Avg Accuracy:   0.9501248699271592\n",
      "Avg Precision:  0.9501248699271592\n",
      "Avg Recall:     0.9501248699271592\n",
      "Avg F1-Score:   0.9501248699271592\n"
     ]
    },
    {
     "name": "stderr",
     "output_type": "stream",
     "text": [
      "/home/algoryc/miniconda3/envs/tf/lib/python3.9/site-packages/sklearn/metrics/_classification.py:1396: UserWarning: Note that pos_label (set to 'positive') is ignored when average != 'binary' (got 'micro'). You may use labels=[pos_label] to specify a single positive class.\n",
      "  warnings.warn(\n",
      "/home/algoryc/miniconda3/envs/tf/lib/python3.9/site-packages/sklearn/metrics/_classification.py:1396: UserWarning: Note that pos_label (set to 'positive') is ignored when average != 'binary' (got 'micro'). You may use labels=[pos_label] to specify a single positive class.\n",
      "  warnings.warn(\n",
      "/home/algoryc/miniconda3/envs/tf/lib/python3.9/site-packages/sklearn/metrics/_classification.py:1396: UserWarning: Note that pos_label (set to 'positive') is ignored when average != 'binary' (got 'micro'). You may use labels=[pos_label] to specify a single positive class.\n",
      "  warnings.warn(\n"
     ]
    }
   ],
   "source": [
    "pred_xg = model_xg.predict(x_test)\n",
    "print('Avg Accuracy:  ', accuracy_score(pred_xg, y_test))\n",
    "print('Avg Precision: ', precision_score(pred_xg, y_test, pos_label='positive', average='micro'))\n",
    "print('Avg Recall:    ', recall_score(pred_xg, y_test, pos_label='positive', average='micro'))\n",
    "print('Avg F1-Score:  ', f1_score(pred_xg,  y_test, pos_label='positive',  average='micro'))"
   ]
  },
  {
   "cell_type": "code",
   "execution_count": null,
   "id": "85828794",
   "metadata": {},
   "outputs": [],
   "source": [
    "cm =confusion_matrix(y_test, pred_xg)\n",
    "sns.set(style='white', palette='Blues',rc={'figure.figsize':(35,35)})\n",
    "sns.heatmap(cm, annot=True)"
   ]
  },
  {
   "cell_type": "code",
   "execution_count": 8,
   "id": "87b32ce1",
   "metadata": {},
   "outputs": [
    {
     "name": "stderr",
     "output_type": "stream",
     "text": [
      "/home/algoryc/miniconda3/envs/tf/lib/python3.9/site-packages/sklearn/neural_network/_multilayer_perceptron.py:684: ConvergenceWarning: Stochastic Optimizer: Maximum iterations (200) reached and the optimization hasn't converged yet.\n",
      "  warnings.warn(\n"
     ]
    },
    {
     "data": {
      "text/html": [
       "<style>#sk-container-id-2 {color: black;background-color: white;}#sk-container-id-2 pre{padding: 0;}#sk-container-id-2 div.sk-toggleable {background-color: white;}#sk-container-id-2 label.sk-toggleable__label {cursor: pointer;display: block;width: 100%;margin-bottom: 0;padding: 0.3em;box-sizing: border-box;text-align: center;}#sk-container-id-2 label.sk-toggleable__label-arrow:before {content: \"▸\";float: left;margin-right: 0.25em;color: #696969;}#sk-container-id-2 label.sk-toggleable__label-arrow:hover:before {color: black;}#sk-container-id-2 div.sk-estimator:hover label.sk-toggleable__label-arrow:before {color: black;}#sk-container-id-2 div.sk-toggleable__content {max-height: 0;max-width: 0;overflow: hidden;text-align: left;background-color: #f0f8ff;}#sk-container-id-2 div.sk-toggleable__content pre {margin: 0.2em;color: black;border-radius: 0.25em;background-color: #f0f8ff;}#sk-container-id-2 input.sk-toggleable__control:checked~div.sk-toggleable__content {max-height: 200px;max-width: 100%;overflow: auto;}#sk-container-id-2 input.sk-toggleable__control:checked~label.sk-toggleable__label-arrow:before {content: \"▾\";}#sk-container-id-2 div.sk-estimator input.sk-toggleable__control:checked~label.sk-toggleable__label {background-color: #d4ebff;}#sk-container-id-2 div.sk-label input.sk-toggleable__control:checked~label.sk-toggleable__label {background-color: #d4ebff;}#sk-container-id-2 input.sk-hidden--visually {border: 0;clip: rect(1px 1px 1px 1px);clip: rect(1px, 1px, 1px, 1px);height: 1px;margin: -1px;overflow: hidden;padding: 0;position: absolute;width: 1px;}#sk-container-id-2 div.sk-estimator {font-family: monospace;background-color: #f0f8ff;border: 1px dotted black;border-radius: 0.25em;box-sizing: border-box;margin-bottom: 0.5em;}#sk-container-id-2 div.sk-estimator:hover {background-color: #d4ebff;}#sk-container-id-2 div.sk-parallel-item::after {content: \"\";width: 100%;border-bottom: 1px solid gray;flex-grow: 1;}#sk-container-id-2 div.sk-label:hover label.sk-toggleable__label {background-color: #d4ebff;}#sk-container-id-2 div.sk-serial::before {content: \"\";position: absolute;border-left: 1px solid gray;box-sizing: border-box;top: 0;bottom: 0;left: 50%;z-index: 0;}#sk-container-id-2 div.sk-serial {display: flex;flex-direction: column;align-items: center;background-color: white;padding-right: 0.2em;padding-left: 0.2em;position: relative;}#sk-container-id-2 div.sk-item {position: relative;z-index: 1;}#sk-container-id-2 div.sk-parallel {display: flex;align-items: stretch;justify-content: center;background-color: white;position: relative;}#sk-container-id-2 div.sk-item::before, #sk-container-id-2 div.sk-parallel-item::before {content: \"\";position: absolute;border-left: 1px solid gray;box-sizing: border-box;top: 0;bottom: 0;left: 50%;z-index: -1;}#sk-container-id-2 div.sk-parallel-item {display: flex;flex-direction: column;z-index: 1;position: relative;background-color: white;}#sk-container-id-2 div.sk-parallel-item:first-child::after {align-self: flex-end;width: 50%;}#sk-container-id-2 div.sk-parallel-item:last-child::after {align-self: flex-start;width: 50%;}#sk-container-id-2 div.sk-parallel-item:only-child::after {width: 0;}#sk-container-id-2 div.sk-dashed-wrapped {border: 1px dashed gray;margin: 0 0.4em 0.5em 0.4em;box-sizing: border-box;padding-bottom: 0.4em;background-color: white;}#sk-container-id-2 div.sk-label label {font-family: monospace;font-weight: bold;display: inline-block;line-height: 1.2em;}#sk-container-id-2 div.sk-label-container {text-align: center;}#sk-container-id-2 div.sk-container {/* jupyter's `normalize.less` sets `[hidden] { display: none; }` but bootstrap.min.css set `[hidden] { display: none !important; }` so we also need the `!important` here to be able to override the default hidden behavior on the sphinx rendered scikit-learn.org. See: https://github.com/scikit-learn/scikit-learn/issues/21755 */display: inline-block !important;position: relative;}#sk-container-id-2 div.sk-text-repr-fallback {display: none;}</style><div id=\"sk-container-id-2\" class=\"sk-top-container\"><div class=\"sk-text-repr-fallback\"><pre>MLPClassifier()</pre><b>In a Jupyter environment, please rerun this cell to show the HTML representation or trust the notebook. <br />On GitHub, the HTML representation is unable to render, please try loading this page with nbviewer.org.</b></div><div class=\"sk-container\" hidden><div class=\"sk-item\"><div class=\"sk-estimator sk-toggleable\"><input class=\"sk-toggleable__control sk-hidden--visually\" id=\"sk-estimator-id-2\" type=\"checkbox\" checked><label for=\"sk-estimator-id-2\" class=\"sk-toggleable__label sk-toggleable__label-arrow\">MLPClassifier</label><div class=\"sk-toggleable__content\"><pre>MLPClassifier()</pre></div></div></div></div></div>"
      ],
      "text/plain": [
       "MLPClassifier()"
      ]
     },
     "execution_count": 8,
     "metadata": {},
     "output_type": "execute_result"
    }
   ],
   "source": [
    "model_mlpc = MLPClassifier()\n",
    "model_mlpc.fit(x_train, y_train)"
   ]
  },
  {
   "cell_type": "code",
   "execution_count": 9,
   "id": "cdab1169",
   "metadata": {},
   "outputs": [],
   "source": [
    "pred_ml =model_mlpc.predict(x_test)"
   ]
  },
  {
   "cell_type": "code",
   "execution_count": null,
   "id": "a2f85ecf",
   "metadata": {},
   "outputs": [],
   "source": [
    "cm =confusion_matrix(y_test, pred_ml)\n",
    "sns.set(style='white', palette='Blues',rc={'figure.figsize':(35,35)})\n",
    "sns.heatmap(cm, annot=True)"
   ]
  },
  {
   "cell_type": "code",
   "execution_count": 10,
   "id": "eeab483b",
   "metadata": {},
   "outputs": [
    {
     "name": "stdout",
     "output_type": "stream",
     "text": [
      "              precision    recall  f1-score   support\n",
      "\n",
      "           0       0.22      0.23      0.23      2128\n",
      "           1       0.34      0.29      0.31      2217\n",
      "           2       0.11      0.17      0.14      1827\n",
      "           3       0.23      0.16      0.19      3497\n",
      "           4       0.07      0.12      0.09       800\n",
      "           5       0.18      0.20      0.19      2419\n",
      "           6       0.40      0.32      0.35      2047\n",
      "           7       0.31      0.25      0.28      2403\n",
      "           8       0.38      0.25      0.30      2818\n",
      "           9       0.16      0.22      0.19      1645\n",
      "          10       0.33      0.18      0.23      1826\n",
      "          11       0.18      0.14      0.16      3000\n",
      "          12       0.22      0.19      0.20      3032\n",
      "          13       0.12      0.20      0.15      1449\n",
      "          14       0.13      0.30      0.18       577\n",
      "          15       0.30      0.16      0.20      5908\n",
      "          16       0.30      0.23      0.26      2043\n",
      "          17       0.36      0.18      0.24      4172\n",
      "          18       0.08      0.17      0.10      1027\n",
      "          19       0.27      0.25      0.26      2730\n",
      "          20       0.30      0.23      0.26      2623\n",
      "          21       0.11      0.25      0.15       879\n",
      "          22       0.09      0.24      0.13       642\n",
      "          23       0.01      0.12      0.02       154\n",
      "          24       0.14      0.25      0.18       735\n",
      "          25       0.24      0.19      0.21      2851\n",
      "          26       0.27      0.28      0.27      1671\n",
      "          27       0.18      0.21      0.20      1763\n",
      "          28       0.33      0.24      0.27      2913\n",
      "          29       0.15      0.29      0.20       752\n",
      "          30       0.25      0.26      0.25      2618\n",
      "          31       0.25      0.23      0.24      1747\n",
      "          32       0.30      0.20      0.24      3318\n",
      "          33       0.43      0.20      0.28      3155\n",
      "          34       0.13      0.28      0.18       832\n",
      "          35       0.08      0.26      0.12       661\n",
      "          36       0.28      0.23      0.26      2694\n",
      "          37       0.21      0.42      0.28       530\n",
      "          38       0.23      0.19      0.21      1724\n",
      "          39       0.28      0.19      0.23      2704\n",
      "          40       0.08      0.17      0.11      1030\n",
      "          41       0.17      0.26      0.21      1613\n",
      "          42       0.31      0.22      0.26      2352\n",
      "          43       0.10      0.34      0.16       338\n",
      "          44       0.17      0.26      0.21      1343\n",
      "          45       0.34      0.44      0.38       599\n",
      "          46       0.21      0.33      0.25       913\n",
      "          47       0.52      0.52      0.52       770\n",
      "          48       0.28      0.37      0.32       551\n",
      "          49       0.25      0.32      0.28      1234\n",
      "          50       0.32      0.23      0.27      1604\n",
      "          51       0.39      0.33      0.36      1222\n",
      "\n",
      "    accuracy                           0.22     96100\n",
      "   macro avg       0.23      0.25      0.23     96100\n",
      "weighted avg       0.26      0.22      0.23     96100\n",
      "\n"
     ]
    }
   ],
   "source": [
    "print(classification_report(pred_ml, y_test))"
   ]
  },
  {
   "cell_type": "code",
   "execution_count": 19,
   "id": "4faf8ece",
   "metadata": {},
   "outputs": [
    {
     "name": "stdout",
     "output_type": "stream",
     "text": [
      "Avg Accuracy:   0.2239334027055151\n",
      "Avg Precision:  0.23281509477838278\n",
      "Avg Recall:     0.24506820410749425\n",
      "Avg F1-Score:   0.22595659536842158\n"
     ]
    },
    {
     "name": "stderr",
     "output_type": "stream",
     "text": [
      "/home/algoryc/miniconda3/envs/tf/lib/python3.9/site-packages/sklearn/metrics/_classification.py:1396: UserWarning: Note that pos_label (set to 'positive') is ignored when average != 'binary' (got 'macro'). You may use labels=[pos_label] to specify a single positive class.\n",
      "  warnings.warn(\n",
      "/home/algoryc/miniconda3/envs/tf/lib/python3.9/site-packages/sklearn/metrics/_classification.py:1396: UserWarning: Note that pos_label (set to 'positive') is ignored when average != 'binary' (got 'macro'). You may use labels=[pos_label] to specify a single positive class.\n",
      "  warnings.warn(\n",
      "/home/algoryc/miniconda3/envs/tf/lib/python3.9/site-packages/sklearn/metrics/_classification.py:1396: UserWarning: Note that pos_label (set to 'positive') is ignored when average != 'binary' (got 'macro'). You may use labels=[pos_label] to specify a single positive class.\n",
      "  warnings.warn(\n"
     ]
    }
   ],
   "source": [
    "print('Avg Accuracy:  ', accuracy_score(pred_ml, y_test))\n",
    "print('Avg Precision: ', precision_score(pred_ml, y_test, pos_label='positive', average='macro'))\n",
    "print('Avg Recall:    ', recall_score(pred_ml, y_test, pos_label='positive', average='macro'))\n",
    "print('Avg F1-Score:  ', f1_score(pred_ml,  y_test, pos_label='positive',  average='macro'))"
   ]
  },
  {
   "cell_type": "code",
   "execution_count": null,
   "id": "87804c35",
   "metadata": {},
   "outputs": [],
   "source": [
    "x1 = x_train.values.reshape(x_train.shape[0], x_train.shape[1], 1 )\n",
    "y1 = y_train.values.reshape(-1,1)"
   ]
  },
  {
   "cell_type": "code",
   "execution_count": null,
   "id": "47858fcf",
   "metadata": {},
   "outputs": [],
   "source": [
    "print(x1.shape)\n",
    "print(y1.shape)"
   ]
  },
  {
   "cell_type": "code",
   "execution_count": null,
   "id": "49206413",
   "metadata": {},
   "outputs": [],
   "source": [
    "import tensorflow as tf"
   ]
  },
  {
   "cell_type": "code",
   "execution_count": null,
   "id": "99164819",
   "metadata": {},
   "outputs": [],
   "source": [
    "lstm = tf.keras.Sequential([\n",
    "    tf.keras.layers.LSTM(128, input_shape=(6, 1), return_sequences=True),                                                   \n",
    "#     tf.keras.layers.BatchNormalization(),\n",
    "#     tf.keras.layers.Dropout(0.4),\n",
    "#     tf.keras.layers.LSTM(64, kernel_regularizer=regularizers.l2(0.02), return_sequences =True),\n",
    "#     tf.keras.layers.BatchNormalization(),\n",
    "#     tf.keras.layers.Dropout(0.4),\n",
    "#     tf.keras.layers.LSTM(32, kernel_regularizer=regularizers.l2(0.02), return_sequences =False),\n",
    "#     tf.keras.layers.BatchNormalization(),\n",
    "#     tf.keras.layers.Dropout(0.1),\n",
    "    tf.keras.layers.Flatten(),\n",
    "#     tf.keras.layers.Dense(416,activation='relu'),\n",
    "#     tf.keras.layers.Dense(208, activation ='relu'),\n",
    "    tf.keras.layers.Dense(52, activation ='softmax')\n",
    "    ])\n",
    "\n",
    "# callback = [EarlyStopping(monitor='accuracy', patience=30)]\n",
    "\n",
    "optim = tf.keras.optimizers.Adam(learning_rate=0.001)\n",
    "\n",
    "lstm.compile(optimizer = optim,\n",
    "             loss='sparse_categorical_crossentropy',\n",
    "             metrics=['accuracy'])"
   ]
  },
  {
   "cell_type": "code",
   "execution_count": null,
   "id": "134a903b",
   "metadata": {},
   "outputs": [],
   "source": [
    "history = lstm.fit(x_train, y_train, \n",
    "                     #validation_data =(val_X, val_y),\n",
    "                     validation_split=0.2,\n",
    "                     #callbacks=callback,\n",
    "                     batch_size =64,\n",
    "                     epochs = 100,\n",
    "                     verbose=1) "
   ]
  },
  {
   "cell_type": "code",
   "execution_count": null,
   "id": "d94db8be",
   "metadata": {},
   "outputs": [],
   "source": []
  },
  {
   "cell_type": "code",
   "execution_count": null,
   "id": "fc642c2d",
   "metadata": {},
   "outputs": [],
   "source": [
    "history = model.fit(x_train, y_train)"
   ]
  },
  {
   "cell_type": "code",
   "execution_count": null,
   "id": "38b7fdbd",
   "metadata": {},
   "outputs": [],
   "source": [
    "pred = model.predict(x_test)"
   ]
  },
  {
   "cell_type": "code",
   "execution_count": null,
   "id": "160a9651",
   "metadata": {
    "scrolled": true
   },
   "outputs": [],
   "source": [
    "print(accuracy_score(pred, y_test))"
   ]
  },
  {
   "cell_type": "code",
   "execution_count": null,
   "id": "128d102f",
   "metadata": {
    "scrolled": false
   },
   "outputs": [],
   "source": [
    "print(classification_report(pred, y_test))"
   ]
  },
  {
   "cell_type": "code",
   "execution_count": null,
   "id": "dea7adf5",
   "metadata": {},
   "outputs": [],
   "source": [
    "from sklearn.metrics import confusion_matrix\n",
    "\n",
    "x2 = x_test.values.reshape(x_test.shape[0], x_test.shape[1], 1 )\n",
    "y2 = y_test.values.reshape(-1,1)\n",
    "\n",
    "pred = model.predict(x_test)\n",
    "predicted = np.argmax(pred, axis=1).reshape(-1,1)\n",
    "\n",
    "matrix = confusion_matrix(y_test, predicted)\n",
    "\n",
    "plt.figure(figsize=(30,30))\n",
    "sns.heatmap(matrix, annot=True, fmt='g', cmap='Blues')\n",
    "plt.xlabel('Predicted')\n",
    "plt.ylabel('Actual')\n",
    "plt.show()"
   ]
  },
  {
   "cell_type": "code",
   "execution_count": null,
   "id": "9a60433e",
   "metadata": {},
   "outputs": [],
   "source": [
    "xgb = XGBClassifier()"
   ]
  },
  {
   "cell_type": "code",
   "execution_count": null,
   "id": "904ef06b",
   "metadata": {},
   "outputs": [],
   "source": [
    "xgb.fit(x_train, y_train)"
   ]
  }
 ],
 "metadata": {
  "kernelspec": {
   "display_name": "Python 3 (ipykernel)",
   "language": "python",
   "name": "python3"
  },
  "language_info": {
   "codemirror_mode": {
    "name": "ipython",
    "version": 3
   },
   "file_extension": ".py",
   "mimetype": "text/x-python",
   "name": "python",
   "nbconvert_exporter": "python",
   "pygments_lexer": "ipython3",
   "version": "3.9.16"
  }
 },
 "nbformat": 4,
 "nbformat_minor": 5
}
