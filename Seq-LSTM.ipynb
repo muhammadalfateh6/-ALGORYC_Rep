{
 "cells": [
  {
   "cell_type": "code",
   "execution_count": 1,
   "id": "91c1ab70",
   "metadata": {},
   "outputs": [
    {
     "data": {
      "text/html": [
       "<div>\n",
       "<style scoped>\n",
       "    .dataframe tbody tr th:only-of-type {\n",
       "        vertical-align: middle;\n",
       "    }\n",
       "\n",
       "    .dataframe tbody tr th {\n",
       "        vertical-align: top;\n",
       "    }\n",
       "\n",
       "    .dataframe thead th {\n",
       "        text-align: right;\n",
       "    }\n",
       "</style>\n",
       "<table border=\"1\" class=\"dataframe\">\n",
       "  <thead>\n",
       "    <tr style=\"text-align: right;\">\n",
       "      <th></th>\n",
       "      <th>time</th>\n",
       "      <th>user_behavior</th>\n",
       "      <th>business_performance</th>\n",
       "      <th>value</th>\n",
       "      <th>business_reviews</th>\n",
       "      <th>business_rating</th>\n",
       "      <th>suburb_name</th>\n",
       "      <th>business_category_encoded</th>\n",
       "      <th>suburb_name_encoded</th>\n",
       "    </tr>\n",
       "  </thead>\n",
       "  <tbody>\n",
       "    <tr>\n",
       "      <th>0</th>\n",
       "      <td>2022-01-13</td>\n",
       "      <td>0</td>\n",
       "      <td>1.0</td>\n",
       "      <td>0.25</td>\n",
       "      <td>0.443</td>\n",
       "      <td>0.954887</td>\n",
       "      <td>Aberfeldie</td>\n",
       "      <td>1</td>\n",
       "      <td>0.715931</td>\n",
       "    </tr>\n",
       "    <tr>\n",
       "      <th>1</th>\n",
       "      <td>2022-01-25</td>\n",
       "      <td>0</td>\n",
       "      <td>0.5</td>\n",
       "      <td>0.75</td>\n",
       "      <td>0.844</td>\n",
       "      <td>0.724311</td>\n",
       "      <td>Aberfeldie</td>\n",
       "      <td>17</td>\n",
       "      <td>0.715931</td>\n",
       "    </tr>\n",
       "    <tr>\n",
       "      <th>2</th>\n",
       "      <td>2022-01-30</td>\n",
       "      <td>0</td>\n",
       "      <td>0.0</td>\n",
       "      <td>1.00</td>\n",
       "      <td>0.447</td>\n",
       "      <td>0.328321</td>\n",
       "      <td>Aberfeldie</td>\n",
       "      <td>32</td>\n",
       "      <td>0.715931</td>\n",
       "    </tr>\n",
       "    <tr>\n",
       "      <th>3</th>\n",
       "      <td>2022-01-27</td>\n",
       "      <td>0</td>\n",
       "      <td>0.0</td>\n",
       "      <td>0.00</td>\n",
       "      <td>0.076</td>\n",
       "      <td>0.411028</td>\n",
       "      <td>Aberfeldie</td>\n",
       "      <td>35</td>\n",
       "      <td>0.715931</td>\n",
       "    </tr>\n",
       "    <tr>\n",
       "      <th>4</th>\n",
       "      <td>2022-01-24</td>\n",
       "      <td>0</td>\n",
       "      <td>0.5</td>\n",
       "      <td>0.75</td>\n",
       "      <td>0.655</td>\n",
       "      <td>0.764411</td>\n",
       "      <td>Aberfeldie</td>\n",
       "      <td>28</td>\n",
       "      <td>0.715931</td>\n",
       "    </tr>\n",
       "    <tr>\n",
       "      <th>...</th>\n",
       "      <td>...</td>\n",
       "      <td>...</td>\n",
       "      <td>...</td>\n",
       "      <td>...</td>\n",
       "      <td>...</td>\n",
       "      <td>...</td>\n",
       "      <td>...</td>\n",
       "      <td>...</td>\n",
       "      <td>...</td>\n",
       "    </tr>\n",
       "    <tr>\n",
       "      <th>480495</th>\n",
       "      <td>2022-01-23</td>\n",
       "      <td>0</td>\n",
       "      <td>1.0</td>\n",
       "      <td>0.75</td>\n",
       "      <td>0.100</td>\n",
       "      <td>0.433584</td>\n",
       "      <td>Yering</td>\n",
       "      <td>5</td>\n",
       "      <td>0.802303</td>\n",
       "    </tr>\n",
       "    <tr>\n",
       "      <th>480496</th>\n",
       "      <td>2022-01-10</td>\n",
       "      <td>1</td>\n",
       "      <td>1.0</td>\n",
       "      <td>0.25</td>\n",
       "      <td>0.047</td>\n",
       "      <td>0.796992</td>\n",
       "      <td>Yering</td>\n",
       "      <td>35</td>\n",
       "      <td>0.802303</td>\n",
       "    </tr>\n",
       "    <tr>\n",
       "      <th>480497</th>\n",
       "      <td>2022-01-28</td>\n",
       "      <td>0</td>\n",
       "      <td>0.0</td>\n",
       "      <td>0.00</td>\n",
       "      <td>0.957</td>\n",
       "      <td>0.456140</td>\n",
       "      <td>Yering</td>\n",
       "      <td>36</td>\n",
       "      <td>0.802303</td>\n",
       "    </tr>\n",
       "    <tr>\n",
       "      <th>480498</th>\n",
       "      <td>2022-01-16</td>\n",
       "      <td>1</td>\n",
       "      <td>0.5</td>\n",
       "      <td>0.75</td>\n",
       "      <td>0.486</td>\n",
       "      <td>0.596491</td>\n",
       "      <td>Yering</td>\n",
       "      <td>28</td>\n",
       "      <td>0.802303</td>\n",
       "    </tr>\n",
       "    <tr>\n",
       "      <th>480499</th>\n",
       "      <td>2022-01-10</td>\n",
       "      <td>0</td>\n",
       "      <td>0.5</td>\n",
       "      <td>1.00</td>\n",
       "      <td>0.045</td>\n",
       "      <td>0.155388</td>\n",
       "      <td>Yering</td>\n",
       "      <td>2</td>\n",
       "      <td>0.802303</td>\n",
       "    </tr>\n",
       "  </tbody>\n",
       "</table>\n",
       "<p>480500 rows × 9 columns</p>\n",
       "</div>"
      ],
      "text/plain": [
       "              time  user_behavior  business_performance  value  \\\n",
       "0       2022-01-13              0                   1.0   0.25   \n",
       "1       2022-01-25              0                   0.5   0.75   \n",
       "2       2022-01-30              0                   0.0   1.00   \n",
       "3       2022-01-27              0                   0.0   0.00   \n",
       "4       2022-01-24              0                   0.5   0.75   \n",
       "...            ...            ...                   ...    ...   \n",
       "480495  2022-01-23              0                   1.0   0.75   \n",
       "480496  2022-01-10              1                   1.0   0.25   \n",
       "480497  2022-01-28              0                   0.0   0.00   \n",
       "480498  2022-01-16              1                   0.5   0.75   \n",
       "480499  2022-01-10              0                   0.5   1.00   \n",
       "\n",
       "        business_reviews  business_rating suburb_name  \\\n",
       "0                  0.443         0.954887  Aberfeldie   \n",
       "1                  0.844         0.724311  Aberfeldie   \n",
       "2                  0.447         0.328321  Aberfeldie   \n",
       "3                  0.076         0.411028  Aberfeldie   \n",
       "4                  0.655         0.764411  Aberfeldie   \n",
       "...                  ...              ...         ...   \n",
       "480495             0.100         0.433584      Yering   \n",
       "480496             0.047         0.796992      Yering   \n",
       "480497             0.957         0.456140      Yering   \n",
       "480498             0.486         0.596491      Yering   \n",
       "480499             0.045         0.155388      Yering   \n",
       "\n",
       "        business_category_encoded  suburb_name_encoded  \n",
       "0                               1             0.715931  \n",
       "1                              17             0.715931  \n",
       "2                              32             0.715931  \n",
       "3                              35             0.715931  \n",
       "4                              28             0.715931  \n",
       "...                           ...                  ...  \n",
       "480495                          5             0.802303  \n",
       "480496                         35             0.802303  \n",
       "480497                         36             0.802303  \n",
       "480498                         28             0.802303  \n",
       "480499                          2             0.802303  \n",
       "\n",
       "[480500 rows x 9 columns]"
      ]
     },
     "execution_count": 1,
     "metadata": {},
     "output_type": "execute_result"
    }
   ],
   "source": [
    "import pandas as pd \n",
    "import numpy as np\n",
    "\n",
    "data = pd.read_csv('Processed Data Aus.csv')\n",
    "data"
   ]
  },
  {
   "cell_type": "code",
   "execution_count": 2,
   "id": "35176e13",
   "metadata": {},
   "outputs": [],
   "source": [
    "grouped = data.groupby([\"suburb_name_encoded\"]).apply(lambda x: x.sort_values([\"time\"], ascending = True)).reset_index(drop=True)"
   ]
  },
  {
   "cell_type": "code",
   "execution_count": 3,
   "id": "f001a5de",
   "metadata": {},
   "outputs": [],
   "source": [
    "grouped1 = grouped.drop(columns=['time','suburb_name'])"
   ]
  },
  {
   "cell_type": "code",
   "execution_count": 4,
   "id": "235ade2b",
   "metadata": {},
   "outputs": [
    {
     "data": {
      "text/html": [
       "<div>\n",
       "<style scoped>\n",
       "    .dataframe tbody tr th:only-of-type {\n",
       "        vertical-align: middle;\n",
       "    }\n",
       "\n",
       "    .dataframe tbody tr th {\n",
       "        vertical-align: top;\n",
       "    }\n",
       "\n",
       "    .dataframe thead th {\n",
       "        text-align: right;\n",
       "    }\n",
       "</style>\n",
       "<table border=\"1\" class=\"dataframe\">\n",
       "  <thead>\n",
       "    <tr style=\"text-align: right;\">\n",
       "      <th></th>\n",
       "      <th>user_behavior</th>\n",
       "      <th>business_performance</th>\n",
       "      <th>value</th>\n",
       "      <th>business_reviews</th>\n",
       "      <th>business_rating</th>\n",
       "      <th>business_category_encoded</th>\n",
       "      <th>suburb_name_encoded</th>\n",
       "    </tr>\n",
       "  </thead>\n",
       "  <tbody>\n",
       "    <tr>\n",
       "      <th>0</th>\n",
       "      <td>0</td>\n",
       "      <td>1.0</td>\n",
       "      <td>0.75</td>\n",
       "      <td>0.601</td>\n",
       "      <td>0.130326</td>\n",
       "      <td>9</td>\n",
       "      <td>0.0</td>\n",
       "    </tr>\n",
       "    <tr>\n",
       "      <th>1</th>\n",
       "      <td>1</td>\n",
       "      <td>1.0</td>\n",
       "      <td>0.50</td>\n",
       "      <td>0.346</td>\n",
       "      <td>0.095238</td>\n",
       "      <td>21</td>\n",
       "      <td>0.0</td>\n",
       "    </tr>\n",
       "    <tr>\n",
       "      <th>2</th>\n",
       "      <td>0</td>\n",
       "      <td>0.5</td>\n",
       "      <td>0.00</td>\n",
       "      <td>0.380</td>\n",
       "      <td>0.248120</td>\n",
       "      <td>11</td>\n",
       "      <td>0.0</td>\n",
       "    </tr>\n",
       "    <tr>\n",
       "      <th>3</th>\n",
       "      <td>0</td>\n",
       "      <td>1.0</td>\n",
       "      <td>0.75</td>\n",
       "      <td>0.601</td>\n",
       "      <td>0.130326</td>\n",
       "      <td>9</td>\n",
       "      <td>0.0</td>\n",
       "    </tr>\n",
       "    <tr>\n",
       "      <th>4</th>\n",
       "      <td>1</td>\n",
       "      <td>0.5</td>\n",
       "      <td>1.00</td>\n",
       "      <td>0.802</td>\n",
       "      <td>0.709273</td>\n",
       "      <td>22</td>\n",
       "      <td>0.0</td>\n",
       "    </tr>\n",
       "    <tr>\n",
       "      <th>...</th>\n",
       "      <td>...</td>\n",
       "      <td>...</td>\n",
       "      <td>...</td>\n",
       "      <td>...</td>\n",
       "      <td>...</td>\n",
       "      <td>...</td>\n",
       "      <td>...</td>\n",
       "    </tr>\n",
       "    <tr>\n",
       "      <th>480495</th>\n",
       "      <td>0</td>\n",
       "      <td>1.0</td>\n",
       "      <td>0.50</td>\n",
       "      <td>0.427</td>\n",
       "      <td>0.285714</td>\n",
       "      <td>46</td>\n",
       "      <td>1.0</td>\n",
       "    </tr>\n",
       "    <tr>\n",
       "      <th>480496</th>\n",
       "      <td>0</td>\n",
       "      <td>1.0</td>\n",
       "      <td>0.50</td>\n",
       "      <td>0.396</td>\n",
       "      <td>0.736842</td>\n",
       "      <td>31</td>\n",
       "      <td>1.0</td>\n",
       "    </tr>\n",
       "    <tr>\n",
       "      <th>480497</th>\n",
       "      <td>1</td>\n",
       "      <td>0.0</td>\n",
       "      <td>1.00</td>\n",
       "      <td>0.631</td>\n",
       "      <td>0.288221</td>\n",
       "      <td>17</td>\n",
       "      <td>1.0</td>\n",
       "    </tr>\n",
       "    <tr>\n",
       "      <th>480498</th>\n",
       "      <td>1</td>\n",
       "      <td>0.0</td>\n",
       "      <td>0.50</td>\n",
       "      <td>0.890</td>\n",
       "      <td>0.962406</td>\n",
       "      <td>5</td>\n",
       "      <td>1.0</td>\n",
       "    </tr>\n",
       "    <tr>\n",
       "      <th>480499</th>\n",
       "      <td>1</td>\n",
       "      <td>0.0</td>\n",
       "      <td>0.25</td>\n",
       "      <td>0.141</td>\n",
       "      <td>0.937343</td>\n",
       "      <td>12</td>\n",
       "      <td>1.0</td>\n",
       "    </tr>\n",
       "  </tbody>\n",
       "</table>\n",
       "<p>480500 rows × 7 columns</p>\n",
       "</div>"
      ],
      "text/plain": [
       "        user_behavior  business_performance  value  business_reviews  \\\n",
       "0                   0                   1.0   0.75             0.601   \n",
       "1                   1                   1.0   0.50             0.346   \n",
       "2                   0                   0.5   0.00             0.380   \n",
       "3                   0                   1.0   0.75             0.601   \n",
       "4                   1                   0.5   1.00             0.802   \n",
       "...               ...                   ...    ...               ...   \n",
       "480495              0                   1.0   0.50             0.427   \n",
       "480496              0                   1.0   0.50             0.396   \n",
       "480497              1                   0.0   1.00             0.631   \n",
       "480498              1                   0.0   0.50             0.890   \n",
       "480499              1                   0.0   0.25             0.141   \n",
       "\n",
       "        business_rating  business_category_encoded  suburb_name_encoded  \n",
       "0              0.130326                          9                  0.0  \n",
       "1              0.095238                         21                  0.0  \n",
       "2              0.248120                         11                  0.0  \n",
       "3              0.130326                          9                  0.0  \n",
       "4              0.709273                         22                  0.0  \n",
       "...                 ...                        ...                  ...  \n",
       "480495         0.285714                         46                  1.0  \n",
       "480496         0.736842                         31                  1.0  \n",
       "480497         0.288221                         17                  1.0  \n",
       "480498         0.962406                          5                  1.0  \n",
       "480499         0.937343                         12                  1.0  \n",
       "\n",
       "[480500 rows x 7 columns]"
      ]
     },
     "execution_count": 4,
     "metadata": {},
     "output_type": "execute_result"
    }
   ],
   "source": [
    "grouped1"
   ]
  },
  {
   "cell_type": "code",
   "execution_count": 5,
   "id": "f09bca36",
   "metadata": {},
   "outputs": [],
   "source": [
    "grouped2 = grouped1.to_numpy()\n"
   ]
  },
  {
   "cell_type": "code",
   "execution_count": 6,
   "id": "6eb19292",
   "metadata": {},
   "outputs": [
    {
     "data": {
      "text/plain": [
       "array([[ 0.        ,  1.        ,  0.75      , ...,  0.13032581,\n",
       "         9.        ,  0.        ],\n",
       "       [ 1.        ,  1.        ,  0.5       , ...,  0.0952381 ,\n",
       "        21.        ,  0.        ],\n",
       "       [ 0.        ,  0.5       ,  0.        , ...,  0.2481203 ,\n",
       "        11.        ,  0.        ],\n",
       "       ...,\n",
       "       [ 1.        ,  0.        ,  1.        , ...,  0.28822055,\n",
       "        17.        ,  1.        ],\n",
       "       [ 1.        ,  0.        ,  0.5       , ...,  0.96240602,\n",
       "         5.        ,  1.        ],\n",
       "       [ 1.        ,  0.        ,  0.25      , ...,  0.93734336,\n",
       "        12.        ,  1.        ]])"
      ]
     },
     "execution_count": 6,
     "metadata": {},
     "output_type": "execute_result"
    }
   ],
   "source": [
    "grouped2"
   ]
  },
  {
   "cell_type": "code",
   "execution_count": 7,
   "id": "51786020",
   "metadata": {},
   "outputs": [
    {
     "name": "stdout",
     "output_type": "stream",
     "text": [
      "Input shape: (16568, 30, 6)\n",
      "Output shape: (16568, 1)\n"
     ]
    }
   ],
   "source": [
    "X, y = [], []\n",
    "seq_len = 30\n",
    "# for i in range(len(data) - seq_len):\n",
    "for i in range(0, len(grouped2) - seq_len, seq_len-1):\n",
    "    X.append(grouped2[i:i+seq_len, :-1])\n",
    "    y.append(grouped2[i+seq_len-1, -1:])\n",
    "\n",
    "X = np.array(X)\n",
    "y = np.array(y)\n",
    "\n",
    "# Print shapes of input and output arrays\n",
    "print('Input shape:', X.shape)\n",
    "print('Output shape:', y.shape)"
   ]
  },
  {
   "cell_type": "code",
   "execution_count": 8,
   "id": "6b162735",
   "metadata": {
    "scrolled": true
   },
   "outputs": [
    {
     "name": "stdout",
     "output_type": "stream",
     "text": [
      "Training data shape: (11597, 30, 6) (11597, 1)\n",
      "Validation data shape: (3313, 30, 6) (3313, 1)\n",
      "Test data shape: (1658, 30, 6) (1658, 1)\n"
     ]
    }
   ],
   "source": [
    "train_size = int(0.7 * len(X))\n",
    "val_size = int(0.2 * len(X))\n",
    "test_size = len(X) - train_size - val_size\n",
    "\n",
    "train_X, val_X, test_X = X[:train_size], X[train_size:train_size+val_size], X[train_size+val_size:]\n",
    "train_y, val_y, test_y = y[:train_size], y[train_size:train_size+val_size], y[train_size+val_size:]\n",
    "\n",
    "print(\"Training data shape:\", train_X.shape, train_y.shape)\n",
    "print(\"Validation data shape:\", val_X.shape, val_y.shape)\n",
    "print(\"Test data shape:\", test_X.shape, test_y.shape)"
   ]
  },
  {
   "cell_type": "code",
   "execution_count": 9,
   "id": "bb11d85d",
   "metadata": {},
   "outputs": [
    {
     "data": {
      "text/plain": [
       "6"
      ]
     },
     "execution_count": 9,
     "metadata": {},
     "output_type": "execute_result"
    }
   ],
   "source": [
    "train_X.shape[2]"
   ]
  },
  {
   "cell_type": "code",
   "execution_count": null,
   "id": "9258f004",
   "metadata": {
    "scrolled": true
   },
   "outputs": [],
   "source": [
    "#!pip install -U tensorflow==2.8.2"
   ]
  },
  {
   "cell_type": "code",
   "execution_count": 10,
   "id": "2771e61e",
   "metadata": {},
   "outputs": [
    {
     "name": "stdout",
     "output_type": "stream",
     "text": [
      "2.8.2\n"
     ]
    }
   ],
   "source": [
    "import tensorflow as tf\n",
    "print(tf.__version__)"
   ]
  },
  {
   "cell_type": "code",
   "execution_count": null,
   "id": "ac012cc2",
   "metadata": {
    "scrolled": true
   },
   "outputs": [],
   "source": [
    "# num_categories = len(df['Business category'].unique())\n",
    "num_categories = 52\n",
    "# Define model architecture\n",
    "model = tf.keras.Sequential([\n",
    "    tf.keras.layers.LSTM(512, input_shape=(train_X.shape[1], train_X.shape[2]), return_sequences=True),\n",
    "    tf.keras.layers.Dropout(0.2),\n",
    "#     tf.keras.layers.MaxPooling1D(pool_size=2, strides=None, padding=\"valid\"),\n",
    "    tf.keras.layers.LSTM(256, return_sequences=True),\n",
    "    tf.keras.layers.Dropout(0.2),\n",
    "#     tf.keras.layers.MaxPooling1D(pool_size=2, strides=None, padding=\"valid\"),\n",
    "    tf.keras.layers.LSTM(128, return_sequences=True),\n",
    "    tf.keras.layers.Dropout(0.2),\n",
    "    tf.keras.layers.LSTM(64),\n",
    "    tf.keras.layers.Dense(208),# activation='relu'),\n",
    "    tf.keras.layers.Dense(104),# activation='relu'),\n",
    "    tf.keras.layers.Dense(num_categories)#, activation='softmax')\n",
    "])\n",
    "\n",
    "opt = tf.keras.optimizers.Adam(learning_rate=0.001)\n",
    "\n",
    "model.compile(optimizer=opt,\n",
    "              loss='sparse_categorical_crossentropy',\n",
    "              metrics=['accuracy'])\n",
    "\n",
    "history = model.fit(train_X, train_y,\n",
    "                    validation_data=(val_X, val_y),\n",
    "                    verbose=1,\n",
    "                    shuffle=False, \n",
    "                    epochs=100,\n",
    "                    batch_size=4096)"
   ]
  },
  {
   "cell_type": "code",
   "execution_count": 11,
   "id": "0d4204c6",
   "metadata": {},
   "outputs": [],
   "source": [
    "import keras\n",
    "from keras.callbacks import EarlyStopping, ModelCheckpoint\n",
    "import matplotlib.pyplot as plt\n",
    "from time import time"
   ]
  },
  {
   "cell_type": "code",
   "execution_count": 14,
   "id": "22c779c5",
   "metadata": {},
   "outputs": [
    {
     "name": "stdout",
     "output_type": "stream",
     "text": [
      "Epoch 1/50\n"
     ]
    },
    {
     "name": "stderr",
     "output_type": "stream",
     "text": [
      "2023-04-27 12:34:58.785978: E tensorflow/stream_executor/cuda/cuda_dnn.cc:373] Could not create cudnn handle: CUDNN_STATUS_INTERNAL_ERROR\n",
      "2023-04-27 12:34:58.786006: W tensorflow/core/framework/op_kernel.cc:1745] OP_REQUIRES failed at cudnn_rnn_ops.cc:1556 : UNKNOWN: Fail to find the dnn implementation.\n"
     ]
    },
    {
     "ename": "UnknownError",
     "evalue": "Graph execution error:\n\nFail to find the dnn implementation.\n\t [[{{node CudnnRNN}}]]\n\t [[sequential_1/lstm_3/PartitionedCall]] [Op:__inference_train_function_18015]",
     "output_type": "error",
     "traceback": [
      "\u001b[0;31m---------------------------------------------------------------------------\u001b[0m",
      "\u001b[0;31mUnknownError\u001b[0m                              Traceback (most recent call last)",
      "Cell \u001b[0;32mIn[14], line 28\u001b[0m\n\u001b[1;32m     22\u001b[0m model1\u001b[38;5;241m.\u001b[39mcompile(optimizer \u001b[38;5;241m=\u001b[39m optim,\n\u001b[1;32m     23\u001b[0m              loss\u001b[38;5;241m=\u001b[39m\u001b[38;5;124m'\u001b[39m\u001b[38;5;124msparse_categorical_crossentropy\u001b[39m\u001b[38;5;124m'\u001b[39m,\n\u001b[1;32m     24\u001b[0m              metrics\u001b[38;5;241m=\u001b[39m[\u001b[38;5;124m'\u001b[39m\u001b[38;5;124maccuracy\u001b[39m\u001b[38;5;124m'\u001b[39m])\n\u001b[1;32m     26\u001b[0m callbacks \u001b[38;5;241m=\u001b[39m [EarlyStopping(monitor\u001b[38;5;241m=\u001b[39m\u001b[38;5;124m'\u001b[39m\u001b[38;5;124maccuracy\u001b[39m\u001b[38;5;124m'\u001b[39m, patience\u001b[38;5;241m=\u001b[39m\u001b[38;5;241m10\u001b[39m)]\n\u001b[0;32m---> 28\u001b[0m history \u001b[38;5;241m=\u001b[39m \u001b[43mmodel1\u001b[49m\u001b[38;5;241;43m.\u001b[39;49m\u001b[43mfit\u001b[49m\u001b[43m(\u001b[49m\u001b[43mtrain_X\u001b[49m\u001b[43m,\u001b[49m\u001b[43m \u001b[49m\u001b[43mtrain_y\u001b[49m\u001b[43m,\u001b[49m\u001b[43m \u001b[49m\n\u001b[1;32m     29\u001b[0m \u001b[43m                     \u001b[49m\u001b[43mvalidation_split\u001b[49m\u001b[43m \u001b[49m\u001b[38;5;241;43m=\u001b[39;49m\u001b[38;5;241;43m0.15\u001b[39;49m\u001b[43m,\u001b[49m\n\u001b[1;32m     30\u001b[0m \u001b[43m                     \u001b[49m\u001b[43mbatch_size\u001b[49m\u001b[43m \u001b[49m\u001b[38;5;241;43m=\u001b[39;49m\u001b[38;5;241;43m64\u001b[39;49m\u001b[43m,\u001b[49m\n\u001b[1;32m     31\u001b[0m \u001b[43m                     \u001b[49m\u001b[43mepochs\u001b[49m\u001b[43m \u001b[49m\u001b[38;5;241;43m=\u001b[39;49m\u001b[38;5;241;43m50\u001b[39;49m\u001b[43m,\u001b[49m\n\u001b[1;32m     32\u001b[0m \u001b[43m                     \u001b[49m\u001b[38;5;66;43;03m#callbacks =callbacks,\u001b[39;49;00m\n\u001b[1;32m     33\u001b[0m \u001b[43m                     \u001b[49m\u001b[43mverbose\u001b[49m\u001b[38;5;241;43m=\u001b[39;49m\u001b[38;5;241;43m1\u001b[39;49m\u001b[43m)\u001b[49m \n",
      "File \u001b[0;32m~/miniconda3/envs/tf/lib/python3.9/site-packages/keras/utils/traceback_utils.py:67\u001b[0m, in \u001b[0;36mfilter_traceback.<locals>.error_handler\u001b[0;34m(*args, **kwargs)\u001b[0m\n\u001b[1;32m     65\u001b[0m \u001b[38;5;28;01mexcept\u001b[39;00m \u001b[38;5;167;01mException\u001b[39;00m \u001b[38;5;28;01mas\u001b[39;00m e:  \u001b[38;5;66;03m# pylint: disable=broad-except\u001b[39;00m\n\u001b[1;32m     66\u001b[0m   filtered_tb \u001b[38;5;241m=\u001b[39m _process_traceback_frames(e\u001b[38;5;241m.\u001b[39m__traceback__)\n\u001b[0;32m---> 67\u001b[0m   \u001b[38;5;28;01mraise\u001b[39;00m e\u001b[38;5;241m.\u001b[39mwith_traceback(filtered_tb) \u001b[38;5;28;01mfrom\u001b[39;00m \u001b[38;5;28mNone\u001b[39m\n\u001b[1;32m     68\u001b[0m \u001b[38;5;28;01mfinally\u001b[39;00m:\n\u001b[1;32m     69\u001b[0m   \u001b[38;5;28;01mdel\u001b[39;00m filtered_tb\n",
      "File \u001b[0;32m~/miniconda3/envs/tf/lib/python3.9/site-packages/tensorflow/python/eager/execute.py:54\u001b[0m, in \u001b[0;36mquick_execute\u001b[0;34m(op_name, num_outputs, inputs, attrs, ctx, name)\u001b[0m\n\u001b[1;32m     52\u001b[0m \u001b[38;5;28;01mtry\u001b[39;00m:\n\u001b[1;32m     53\u001b[0m   ctx\u001b[38;5;241m.\u001b[39mensure_initialized()\n\u001b[0;32m---> 54\u001b[0m   tensors \u001b[38;5;241m=\u001b[39m pywrap_tfe\u001b[38;5;241m.\u001b[39mTFE_Py_Execute(ctx\u001b[38;5;241m.\u001b[39m_handle, device_name, op_name,\n\u001b[1;32m     55\u001b[0m                                       inputs, attrs, num_outputs)\n\u001b[1;32m     56\u001b[0m \u001b[38;5;28;01mexcept\u001b[39;00m core\u001b[38;5;241m.\u001b[39m_NotOkStatusException \u001b[38;5;28;01mas\u001b[39;00m e:\n\u001b[1;32m     57\u001b[0m   \u001b[38;5;28;01mif\u001b[39;00m name \u001b[38;5;129;01mis\u001b[39;00m \u001b[38;5;129;01mnot\u001b[39;00m \u001b[38;5;28;01mNone\u001b[39;00m:\n",
      "\u001b[0;31mUnknownError\u001b[0m: Graph execution error:\n\nFail to find the dnn implementation.\n\t [[{{node CudnnRNN}}]]\n\t [[sequential_1/lstm_3/PartitionedCall]] [Op:__inference_train_function_18015]"
     ]
    }
   ],
   "source": [
    "import tensorflow as tf\n",
    "\n",
    "model1 = tf.keras.Sequential([\n",
    "    tf.keras.layers.LSTM(128, input_shape=(30, 6), return_sequences=True),\n",
    "    tf.keras.layers.BatchNormalization(),\n",
    "    tf.keras.layers.Dropout(0.1),\n",
    "    tf.keras.layers.LSTM(64, return_sequences =True),\n",
    "    tf.keras.layers.BatchNormalization(),\n",
    "    tf.keras.layers.Dropout(0.1),\n",
    "    tf.keras.layers.LSTM(32, return_sequences =False),\n",
    "    tf.keras.layers.BatchNormalization(),\n",
    "    tf.keras.layers.Dropout(0.1),\n",
    "    tf.keras.layers.Flatten(),\n",
    "    tf.keras.layers.Dense(208,activation='relu'),\n",
    "    tf.keras.layers.Dense(104, activation ='relu'),\n",
    "    tf.keras.layers.Dense(52, activation ='softmax')\n",
    "    ])\n",
    "\n",
    "# callbacks = [EarlyStopping(monitor='accuracy', patience = 15)]\n",
    "optim = tf.keras.optimizers.Adam(learning_rate=0.001)\n",
    "\n",
    "model1.compile(optimizer = optim,\n",
    "             loss='sparse_categorical_crossentropy',\n",
    "             metrics=['accuracy'])\n",
    "\n",
    "callbacks = [EarlyStopping(monitor='accuracy', patience=10)]\n",
    "\n",
    "history = model1.fit(train_X, train_y, \n",
    "                     validation_split =0.15,\n",
    "                     batch_size =64,\n",
    "                     epochs =50,\n",
    "                     #callbacks =callbacks,\n",
    "                     verbose=1) "
   ]
  },
  {
   "cell_type": "code",
   "execution_count": 13,
   "id": "9831c064",
   "metadata": {},
   "outputs": [
    {
     "data": {
      "text/plain": [
       "(30, 6)"
      ]
     },
     "execution_count": 13,
     "metadata": {},
     "output_type": "execute_result"
    }
   ],
   "source": [
    "train_X.shape[1], train_X.shape[2]"
   ]
  }
 ],
 "metadata": {
  "kernelspec": {
   "display_name": "Python 3 (ipykernel)",
   "language": "python",
   "name": "python3"
  },
  "language_info": {
   "codemirror_mode": {
    "name": "ipython",
    "version": 3
   },
   "file_extension": ".py",
   "mimetype": "text/x-python",
   "name": "python",
   "nbconvert_exporter": "python",
   "pygments_lexer": "ipython3",
   "version": "3.9.16"
  }
 },
 "nbformat": 4,
 "nbformat_minor": 5
}
