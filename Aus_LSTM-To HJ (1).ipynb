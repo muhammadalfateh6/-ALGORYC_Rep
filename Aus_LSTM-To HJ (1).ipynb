{
 "cells": [
  {
   "cell_type": "code",
   "execution_count": 2,
   "id": "7214aa5b",
   "metadata": {},
   "outputs": [],
   "source": [
    "import pandas as pd\n",
    "import numpy as np\n",
    "import tensorflow as tf\n",
    "import matplotlib.pyplot as plt\n",
    "from keras.models import Sequential\n",
    "from keras.layers import Dense, LSTM\n",
    "from keras.callbacks import EarlyStopping, ModelCheckpoint\n",
    "from sklearn.model_selection import train_test_split\n",
    "from sklearn.metrics import mean_squared_error, mean_absolute_error, r2_score\n",
    "from sklearn.preprocessing import MinMaxScaler\n",
    "from sklearn.preprocessing import LabelEncoder"
   ]
  },
  {
   "cell_type": "code",
   "execution_count": null,
   "id": "a5bbadf1",
   "metadata": {},
   "outputs": [],
   "source": [
    "business_data = pd.read_csv('business_d.csv')\n",
    "user_data = pd.read_csv('user_d.csv')\n",
    "time_series_data = pd.read_csv('time_series_d.csv')"
   ]
  },
  {
   "cell_type": "code",
   "execution_count": null,
   "id": "a12ef387",
   "metadata": {},
   "outputs": [],
   "source": [
    "business_data"
   ]
  },
  {
   "cell_type": "code",
   "execution_count": null,
   "id": "cd938501",
   "metadata": {},
   "outputs": [],
   "source": [
    "user_data"
   ]
  },
  {
   "cell_type": "code",
   "execution_count": null,
   "id": "5335b2de",
   "metadata": {},
   "outputs": [],
   "source": [
    "time_series_data"
   ]
  },
  {
   "cell_type": "code",
   "execution_count": null,
   "id": "c6b51296",
   "metadata": {},
   "outputs": [],
   "source": [
    "# Merge the time-series data with the business and user data\n",
    "time_series_data = pd.merge(time_series_data, business_data, on='business_id', how='left')"
   ]
  },
  {
   "cell_type": "code",
   "execution_count": null,
   "id": "530d1680",
   "metadata": {},
   "outputs": [],
   "source": [
    "time_series_data = pd.merge(time_series_data, user_data, on='user_id', how='left')"
   ]
  },
  {
   "cell_type": "code",
   "execution_count": null,
   "id": "be068b03",
   "metadata": {
    "scrolled": true
   },
   "outputs": [],
   "source": [
    "mm = pd.read_csv('merged_time_series.csv')"
   ]
  },
  {
   "cell_type": "code",
   "execution_count": null,
   "id": "0b50576e",
   "metadata": {
    "scrolled": true
   },
   "outputs": [],
   "source": [
    "time_series_data"
   ]
  },
  {
   "cell_type": "code",
   "execution_count": null,
   "id": "3cf10914",
   "metadata": {
    "scrolled": true
   },
   "outputs": [],
   "source": [
    "mm"
   ]
  },
  {
   "cell_type": "code",
   "execution_count": null,
   "id": "b39ed906",
   "metadata": {},
   "outputs": [],
   "source": [
    "len(mm['business_id'].unique())"
   ]
  },
  {
   "cell_type": "code",
   "execution_count": null,
   "id": "5b030525",
   "metadata": {},
   "outputs": [],
   "source": [
    "mm = mm.drop(columns=['time','business_id',\n",
    "                    'user_behavior','business_performance',\n",
    "                   'value'])"
   ]
  },
  {
   "cell_type": "code",
   "execution_count": null,
   "id": "20029170",
   "metadata": {
    "scrolled": true
   },
   "outputs": [],
   "source": [
    "mm"
   ]
  },
  {
   "cell_type": "code",
   "execution_count": null,
   "id": "91247305",
   "metadata": {},
   "outputs": [],
   "source": [
    "time_series_data = time_series_data.drop(columns=['suburb_name'])"
   ]
  },
  {
   "cell_type": "code",
   "execution_count": null,
   "id": "de6f0c50",
   "metadata": {},
   "outputs": [],
   "source": [
    "time_series_data"
   ]
  },
  {
   "cell_type": "code",
   "execution_count": null,
   "id": "66ae518c",
   "metadata": {},
   "outputs": [],
   "source": [
    "data = pd.merge(time_series_data, mm, on='user_id', how='left')"
   ]
  },
  {
   "cell_type": "code",
   "execution_count": null,
   "id": "4a71db87",
   "metadata": {},
   "outputs": [],
   "source": [
    "data.head(60)"
   ]
  },
  {
   "cell_type": "code",
   "execution_count": null,
   "id": "88c23d33",
   "metadata": {},
   "outputs": [],
   "source": [
    "data2 = data.drop(columns=['user_id',\n",
    "                           'business_id',\n",
    "                          'business_description',\n",
    "                           'business_location_lat','business_location_lon',\n",
    "                          'user_location_lat','user_location_lon'])"
   ]
  },
  {
   "cell_type": "code",
   "execution_count": null,
   "id": "02715822",
   "metadata": {},
   "outputs": [],
   "source": [
    "data2"
   ]
  },
  {
   "cell_type": "code",
   "execution_count": null,
   "id": "9768c2f5",
   "metadata": {},
   "outputs": [],
   "source": [
    "print(data2['user_behavior'].unique())"
   ]
  },
  {
   "cell_type": "code",
   "execution_count": null,
   "id": "8cf7e61a",
   "metadata": {},
   "outputs": [],
   "source": [
    "data2.replace({'rated': 0, 'visited': 1}, inplace= True)"
   ]
  },
  {
   "cell_type": "code",
   "execution_count": null,
   "id": "5e835679",
   "metadata": {},
   "outputs": [],
   "source": [
    "print(data2['business_performance'].unique())"
   ]
  },
  {
   "cell_type": "code",
   "execution_count": null,
   "id": "722b9b9b",
   "metadata": {},
   "outputs": [],
   "source": [
    "data2.replace({'rating': 0, 'sales': 0.5}, inplace =True)\n"
   ]
  },
  {
   "cell_type": "code",
   "execution_count": null,
   "id": "4024911c",
   "metadata": {},
   "outputs": [],
   "source": [
    "print(data2['business_performance'].unique())"
   ]
  },
  {
   "cell_type": "code",
   "execution_count": null,
   "id": "c1f3f209",
   "metadata": {},
   "outputs": [],
   "source": [
    "data2['business_category_encoded'] = pd.factorize(data.business_category)[0]\n",
    "data2['suburb_name_encoded'] = pd.factorize(data.suburb_name)[0]"
   ]
  },
  {
   "cell_type": "code",
   "execution_count": null,
   "id": "2b0ea5ef",
   "metadata": {
    "scrolled": true
   },
   "outputs": [],
   "source": [
    "data2"
   ]
  },
  {
   "cell_type": "code",
   "execution_count": null,
   "id": "c6038e62",
   "metadata": {},
   "outputs": [],
   "source": [
    "data0 = data2.sort_values(by='suburb_name')"
   ]
  },
  {
   "cell_type": "code",
   "execution_count": null,
   "id": "3bc222cc",
   "metadata": {},
   "outputs": [],
   "source": [
    "data0"
   ]
  },
  {
   "cell_type": "code",
   "execution_count": null,
   "id": "213757f7",
   "metadata": {},
   "outputs": [],
   "source": [
    "data3 = data0.drop(columns=['business_category'])"
   ]
  },
  {
   "cell_type": "code",
   "execution_count": null,
   "id": "28d03931",
   "metadata": {
    "scrolled": true
   },
   "outputs": [],
   "source": [
    "data3"
   ]
  },
  {
   "cell_type": "code",
   "execution_count": null,
   "id": "653caab2",
   "metadata": {},
   "outputs": [],
   "source": [
    "scaling_columns = ['value','business_reviews','business_rating','suburb_name_encoded']\n",
    "scale_factor = MinMaxScaler()\n",
    "data3[scaling_columns] = scale_factor.fit_transform(data3[scaling_columns])"
   ]
  },
  {
   "cell_type": "code",
   "execution_count": null,
   "id": "8075d9e2",
   "metadata": {},
   "outputs": [],
   "source": [
    "data3"
   ]
  },
  {
   "cell_type": "code",
   "execution_count": null,
   "id": "94fea3bf",
   "metadata": {},
   "outputs": [],
   "source": [
    "x = data3.drop(columns=['business_category_encoded'])\n",
    "y = data3['business_category_encoded']"
   ]
  },
  {
   "cell_type": "code",
   "execution_count": null,
   "id": "1a3bef7b",
   "metadata": {},
   "outputs": [],
   "source": [
    "x_train, x_test, y_train, y_test = train_test_split(x, y, test_size=0.2)"
   ]
  },
  {
   "cell_type": "code",
   "execution_count": null,
   "id": "c1f507c1",
   "metadata": {},
   "outputs": [],
   "source": [
    "x1 = x_train.values.reshape(x_train.shape[0], x_train.shape[1], 1 )\n",
    "y1 = y_train.values.reshape(-1,1)"
   ]
  },
  {
   "cell_type": "code",
   "execution_count": null,
   "id": "9cf7d532",
   "metadata": {},
   "outputs": [],
   "source": [
    "data3['time'] = pd.to_datetime(data3['time'])"
   ]
  },
  {
   "cell_type": "code",
   "execution_count": null,
   "id": "3b32c97f",
   "metadata": {},
   "outputs": [],
   "source": [
    "data3['time']"
   ]
  },
  {
   "cell_type": "code",
   "execution_count": null,
   "id": "0a3bb6a0",
   "metadata": {},
   "outputs": [],
   "source": [
    "grouped = data3.groupby([\"Suburb\"]).apply(lambda x: x.sort_values([\"Timestamp\"], ascending = True)).reset_index(drop=True)"
   ]
  },
  {
   "cell_type": "code",
   "execution_count": null,
   "id": "628c0abe",
   "metadata": {},
   "outputs": [],
   "source": [
    "grouped"
   ]
  },
  {
   "cell_type": "code",
   "execution_count": null,
   "id": "b2047467",
   "metadata": {},
   "outputs": [],
   "source": [
    "print(x1.shape)\n",
    "print(y1.shape)"
   ]
  },
  {
   "cell_type": "code",
   "execution_count": null,
   "id": "c57cbf58",
   "metadata": {},
   "outputs": [],
   "source": [
    "grouped"
   ]
  },
  {
   "cell_type": "code",
   "execution_count": 1,
   "id": "d819d6e2",
   "metadata": {},
   "outputs": [
    {
     "ename": "SyntaxError",
     "evalue": "invalid syntax (1184816431.py, line 14)",
     "output_type": "error",
     "traceback": [
      "\u001b[0;36m  Cell \u001b[0;32mIn[1], line 14\u001b[0;36m\u001b[0m\n\u001b[0;31m    tf.keras.layers.Dense(104, activation ='relu'),\u001b[0m\n\u001b[0m    ^\u001b[0m\n\u001b[0;31mSyntaxError\u001b[0m\u001b[0;31m:\u001b[0m invalid syntax\n"
     ]
    }
   ],
   "source": [
    "model = tf.keras.Sequential([\n",
    "    tf.keras.layers.LSTM(128, input_shape = (7, 1), return_sequences=True),\n",
    "    tf.keras.layers.BatchNormalization(),\n",
    "    tf.keras.layers.Dropout(0.1),\n",
    "    tf.keras.layers.LSTM(64, return_sequences =True),\n",
    "    tf.keras.layers.BatchNormalization(),\n",
    "    tf.keras.layers.Dropout(0.1),\n",
    "    tf.keras.layers.LSTM(32, return_sequences =False),\n",
    "    tf.keras.layers.BatchNormalization(),\n",
    "    tf.keras.layers.Dropout(0.1),\n",
    "    tf.keras.layers.Flatten(),\n",
    "    tf.keras.layers.Dense(208,activation='relu')\n",
    "    tf.keras.layers.Dense(104, activation ='relu'),\n",
    "    tf.keras.layers.Dense(52, activation ='softmax')\n",
    "    ])\n",
    "\n",
    "callbacks = [EarlyStopping(monitor='accuracy', patience = 15)]\n",
    "optim = tf.keras.optimizers.Adam(learning_rate=0.001)\n",
    "\n",
    "model.compile(optimizer = optim,\n",
    "             loss='sparse_categorical_crossentropy',\n",
    "             metrics=['accuracy'])"
   ]
  },
  {
   "cell_type": "code",
   "execution_count": null,
   "id": "82f7d9fd",
   "metadata": {},
   "outputs": [],
   "source": [
    "for name, group in grouped:\n",
    "    X_group = group['input']\n",
    "    y_group = group['business_category_encoded']\n",
    "    x1.append(X_group)\n",
    "    y1.append(y_group)\n",
    "    model.fit(X_group, y_group, \n",
    "              validation_split =0.11,\n",
    "              batch_size =2048,\n",
    "              epochs =5,\n",
    "              callbacks =callbacks,\n",
    "              verbose=1)"
   ]
  },
  {
   "cell_type": "code",
   "execution_count": null,
   "id": "d7026b66",
   "metadata": {
    "scrolled": true
   },
   "outputs": [],
   "source": [
    "result = data6.apply(lambda x: x)\n",
    "print(result)"
   ]
  },
  {
   "cell_type": "code",
   "execution_count": null,
   "id": "e745fa8c",
   "metadata": {},
   "outputs": [],
   "source": [
    "data3"
   ]
  },
  {
   "cell_type": "code",
   "execution_count": null,
   "id": "78aa42ed",
   "metadata": {},
   "outputs": [],
   "source": [
    "print(x1.shape)\n",
    "print(y1.shape)"
   ]
  },
  {
   "cell_type": "code",
   "execution_count": null,
   "id": "8d2c950d",
   "metadata": {},
   "outputs": [],
   "source": [
    "plt.plot(history.history['loss'])\n",
    "plt.plot(history.history['val_loss'])\n",
    "plt.title('Loss vs epochs')\n",
    "plt.ylabel('Loss')\n",
    "plt.xlabel('Epochs')\n",
    "plt.legend(['Training', 'Validation'], loc='upper right')"
   ]
  },
  {
   "cell_type": "code",
   "execution_count": null,
   "id": "b9e29a9d",
   "metadata": {
    "scrolled": false
   },
   "outputs": [],
   "source": [
    "plt.plot(history.history['accuracy'])\n",
    "plt.plot(history.history['val_accuracy'])\n",
    "plt.title('Accuracy vs. Epochs')\n",
    "plt.ylabel('Accuracy')\n",
    "plt.xlabel('Epoch')\n",
    "plt.legend(['Training', 'Validation'], loc='lower right')\n",
    "plt.show() "
   ]
  },
  {
   "cell_type": "code",
   "execution_count": null,
   "id": "bb6bdbff",
   "metadata": {},
   "outputs": [],
   "source": [
    "x2 = x_test.values.reshape(x_test.shape[0], x_test.shape[1], 1 )\n",
    "y2 = y_test.values.reshape(-1,1)"
   ]
  },
  {
   "cell_type": "code",
   "execution_count": null,
   "id": "b3acc44f",
   "metadata": {},
   "outputs": [],
   "source": [
    "from sklearn.metrics import classification_report\n",
    "from sklearn.metrics import confusion_matrix\n",
    "\n",
    "pred = model.predict(x2)\n",
    "predicted = np.argmax(pred, axis=1).reshape(-1,1)\n",
    "\n",
    "matrix = confusion_matrix(y2, predicted)"
   ]
  },
  {
   "cell_type": "code",
   "execution_count": null,
   "id": "ac0ff062",
   "metadata": {},
   "outputs": [],
   "source": [
    "import seaborn as sns\n",
    "import numpy as np\n",
    "import matplotlib.pyplot as plt\n",
    "from sklearn.metrics import confusion_matrix\n",
    "\n",
    "plt.figure(figsize=(30,30))\n",
    "sns.heatmap(matrix, annot=True, fmt='g', cmap='Blues')\n",
    "plt.xlabel('Predicted')\n",
    "plt.ylabel('Actual')\n",
    "plt.show()"
   ]
  },
  {
   "cell_type": "code",
   "execution_count": null,
   "id": "e4b9870f",
   "metadata": {},
   "outputs": [],
   "source": [
    "path = '/home/algoryc/Projects/Untitled Folder/weights/saving weights'\n",
    "\n",
    "checkpointing = ModelCheckpoint(filepath=path,\n",
    "                                save_weights_only=True,\n",
    "                                save_freq='epoch',\n",
    "                                monitor='accuracy',\n",
    "                                save_best_only=True,\n",
    "                                mode='max',\n",
    "                                verbose=1)\n"
   ]
  },
  {
   "cell_type": "code",
   "execution_count": null,
   "id": "33f540fb",
   "metadata": {},
   "outputs": [],
   "source": [
    "plot_model(model, to_file='lstm_model.png', show_shapes=False, show_layer_names=False)"
   ]
  }
 ],
 "metadata": {
  "kernelspec": {
   "display_name": "Python 3 (ipykernel)",
   "language": "python",
   "name": "python3"
  },
  "language_info": {
   "codemirror_mode": {
    "name": "ipython",
    "version": 3
   },
   "file_extension": ".py",
   "mimetype": "text/x-python",
   "name": "python",
   "nbconvert_exporter": "python",
   "pygments_lexer": "ipython3",
   "version": "3.9.16"
  }
 },
 "nbformat": 4,
 "nbformat_minor": 5
}
