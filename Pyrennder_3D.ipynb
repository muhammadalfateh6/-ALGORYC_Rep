{
  "nbformat": 4,
  "nbformat_minor": 0,
  "metadata": {
    "colab": {
      "provenance": [],
      "authorship_tag": "ABX9TyOb8zMHkDRnUBsfBKNHbyr8",
      "include_colab_link": true
    },
    "kernelspec": {
      "name": "python3",
      "display_name": "Python 3"
    },
    "language_info": {
      "name": "python"
    }
  },
  "cells": [
    {
      "cell_type": "markdown",
      "metadata": {
        "id": "view-in-github",
        "colab_type": "text"
      },
      "source": [
        "<a href=\"https://colab.research.google.com/github/muhammadalfateh6/-ALGORYC_Rep/blob/main/Pyrennder_3D.ipynb\" target=\"_parent\"><img src=\"https://colab.research.google.com/assets/colab-badge.svg\" alt=\"Open In Colab\"/></a>"
      ]
    },
    {
      "cell_type": "code",
      "source": [
        "import numpy as np\n",
        "import open3d as o3d\n",
        "import pyrender\n",
        "# import pyvista as pyv\n",
        "from pyrender import Mesh, Scene, Viewer\n",
        "\n",
        "\n",
        "data = o3d.io.read_point_cloud('/home/alfateh/Downloads/2ndfloor.ply')\n",
        "# print(data)\n",
        "# print(np.asarray(data.points))\n",
        "\n",
        "pc = np.asarray(data.points)\n",
        "point_cloud = Mesh.from_points(pc)\n",
        "\n",
        "scene = Scene()\n",
        "\n",
        "scene.add(point_cloud)\n",
        "Viewer(scene, use_raymond_lighting=True)"
      ],
      "metadata": {
        "id": "Tzeymb_R91AS"
      },
      "execution_count": null,
      "outputs": []
    }
  ]
}