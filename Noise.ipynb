{
 "cells": [
  {
   "cell_type": "code",
   "execution_count": null,
   "id": "943a8e26",
   "metadata": {},
   "outputs": [],
   "source": [
    "   # Random Noise\n",
    "    mask = np.zeros(len(data_ready), dtype=bool)\n",
    "    mask[:14415] = True\n",
    "    np.random.shuffle(mask)\n",
    "\n",
    "    noise = np.zeros((len(data_ready), len(cols_to_noise)))\n",
    "    noise[mask, :] = np.random.normal(scale=noise_std, size=(mask.sum(), len(cols_to_noise)))\n",
    "\n",
    "    data_ready.loc[mask, cols_to_noise] += noise[mask, :]\n",
    "\n",
    "    data_ready.to_csv('noisy_data_pc_1.csv', index=False)\n",
    "    n_d = pd.read_csv('noisy_data_pc_1.csv')"
   ]
  },
  {
   "cell_type": "code",
   "execution_count": null,
   "id": "38dcec9f",
   "metadata": {},
   "outputs": [],
   "source": [
    "# Guassian Noise\n",
    "\n",
    " cols_to_noise = ['user_behavior',\n",
    "                     'business_performance',\n",
    "                     'value',\n",
    "                     'business_reviews',\n",
    "                     'business_rating',\n",
    "                     'suburb_name_encoded']\n",
    "    noise_mean = 0\n",
    "    noise_std = 0.1\n",
    "\n",
    "    start_row = 300000\n",
    "    end_row = start_row + 24025\n",
    "\n",
    "    row_indices = np.arange(start_row, end_row + 1)\n",
    "    noise = np.random.normal(loc=noise_mean, scale=noise_std, size=(len(row_indices), len(cols_to_noise)))\n",
    "\n",
    "    data_ready.loc[row_indices, cols_to_noise] += noise\n",
    "    noised_data = data_ready.to_csv('noised_data_pych.csv', index = False)\n",
    "    data_With_Noise = pd.read_csv('noised_data_pych.csv')"
   ]
  }
 ],
 "metadata": {
  "kernelspec": {
   "display_name": "Python 3 (ipykernel)",
   "language": "python",
   "name": "python3"
  },
  "language_info": {
   "codemirror_mode": {
    "name": "ipython",
    "version": 3
   },
   "file_extension": ".py",
   "mimetype": "text/x-python",
   "name": "python",
   "nbconvert_exporter": "python",
   "pygments_lexer": "ipython3",
   "version": "3.9.16"
  }
 },
 "nbformat": 4,
 "nbformat_minor": 5
}
