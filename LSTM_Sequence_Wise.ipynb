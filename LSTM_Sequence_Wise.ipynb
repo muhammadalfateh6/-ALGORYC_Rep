{
  "nbformat": 4,
  "nbformat_minor": 0,
  "metadata": {
    "colab": {
      "provenance": [],
      "authorship_tag": "ABX9TyNyi81bMSseMFSnHjfihyeD",
      "include_colab_link": true
    },
    "kernelspec": {
      "name": "python3",
      "display_name": "Python 3"
    },
    "language_info": {
      "name": "python"
    }
  },
  "cells": [
    {
      "cell_type": "markdown",
      "metadata": {
        "id": "view-in-github",
        "colab_type": "text"
      },
      "source": [
        "<a href=\"https://colab.research.google.com/github/muhammadalfateh6/-ALGORYC_Rep/blob/main/LSTM_Sequence_Wise.ipynb\" target=\"_parent\"><img src=\"https://colab.research.google.com/assets/colab-badge.svg\" alt=\"Open In Colab\"/></a>"
      ]
    },
    {
      "cell_type": "code",
      "execution_count": null,
      "metadata": {
        "id": "6twHGjsOn0nd"
      },
      "outputs": [],
      "source": [
        "import pandas as pd\n",
        "import numpy as np\n",
        "\n",
        "data1 = pd.read_csv('Processed Data Aus.csv')"
      ]
    },
    {
      "cell_type": "code",
      "source": [
        "data1"
      ],
      "metadata": {
        "id": "gwS1jL7ioR0H"
      },
      "execution_count": null,
      "outputs": []
    },
    {
      "cell_type": "code",
      "source": [
        "data2=data1.reset_index(drop =True)\n",
        "data2"
      ],
      "metadata": {
        "id": "18H1fvQPoWKH"
      },
      "execution_count": null,
      "outputs": []
    },
    {
      "cell_type": "code",
      "source": [
        "data3 = data2.reset_index(drop=True)\n",
        "data3"
      ],
      "metadata": {
        "id": "LJngesYIoZCV"
      },
      "execution_count": null,
      "outputs": []
    },
    {
      "cell_type": "code",
      "source": [
        "grouped = data3.groupby([\"suburb_name_encoded\"]).apply(lambda x: x.sort_values([\"time\"], ascending = True)).reset_index(drop=True)"
      ],
      "metadata": {
        "id": "391xZ7gDob3d"
      },
      "execution_count": null,
      "outputs": []
    },
    {
      "cell_type": "code",
      "source": [
        "grouped1 = grouped.drop(columns=['time','suburb_name'])\n",
        "grouped1"
      ],
      "metadata": {
        "id": "6QhKggVTopLy"
      },
      "execution_count": null,
      "outputs": []
    },
    {
      "cell_type": "code",
      "source": [
        "grouped2=grouped1.reindex(columns=['user_behavior',\n",
        "                                   'business_performance',\n",
        "                                   'value',\n",
        "                                   'business_reviews',\n",
        "                                   'business_rating',\n",
        "                                   'suburb_name_encoded',\n",
        "                                   'business_category_encoded'])"
      ],
      "metadata": {
        "id": "5tiaJupsoucE"
      },
      "execution_count": null,
      "outputs": []
    },
    {
      "cell_type": "code",
      "source": [
        "grouped2"
      ],
      "metadata": {
        "id": "Ok1W3eB3owni"
      },
      "execution_count": null,
      "outputs": []
    },
    {
      "cell_type": "code",
      "source": [
        "grouped3 = grouped2.to_numpy()\n",
        "grouped3"
      ],
      "metadata": {
        "id": "Ms1_86Zqoza7"
      },
      "execution_count": null,
      "outputs": []
    },
    {
      "cell_type": "code",
      "source": [
        "grouped3.shape"
      ],
      "metadata": {
        "id": "RT1oEfUno46K"
      },
      "execution_count": null,
      "outputs": []
    },
    {
      "cell_type": "code",
      "source": [
        "grouped3[:, :-1].shape, grouped3[:, -1:].shape"
      ],
      "metadata": {
        "id": "RZFoSKFbo5ed"
      },
      "execution_count": null,
      "outputs": []
    },
    {
      "cell_type": "code",
      "source": [
        "grouped3"
      ],
      "metadata": {
        "id": "gkWAWdz2pI7y"
      },
      "execution_count": null,
      "outputs": []
    },
    {
      "cell_type": "code",
      "source": [
        "# Split data into input and output sequences\n",
        "X, y = [], []\n",
        "seq_len = 30\n",
        "# for i in range(len(data) - seq_len):\n",
        "for i in range(0, len(grouped3) - seq_len, seq_len-1):\n",
        "    X.append(grouped3[i:i+seq_len, :-1])\n",
        "    y.append(grouped3[i+seq_len-1, -1:])\n",
        "\n",
        "X = np.array(X)\n",
        "y = np.array(y)\n",
        "\n",
        "# Print shapes of input and output arrays\n",
        "print('Input shape:', X.shape)\n",
        "print('Output shape:', y.shape)"
      ],
      "metadata": {
        "id": "pAotM8QnpMNt"
      },
      "execution_count": null,
      "outputs": []
    },
    {
      "cell_type": "code",
      "source": [
        "train_size = int(0.7 * len(X))\n",
        "val_size = int(0.2 * len(X))\n",
        "test_size = len(X) - train_size - val_size\n",
        "\n",
        "train_X, val_X, test_X = X[:train_size], X[train_size:train_size+val_size], X[train_size+val_size:]\n",
        "train_y, val_y, test_y = y[:train_size], y[train_size:train_size+val_size], y[train_size+val_size:]\n",
        "\n",
        "print(\"Training data shape:\", train_X.shape, train_y.shape)\n",
        "print(\"Validation data shape:\", val_X.shape, val_y.shape)\n",
        "print(\"Test data shape:\", test_X.shape, test_y.shape)"
      ],
      "metadata": {
        "id": "Jb3Fa5ezpNH0"
      },
      "execution_count": null,
      "outputs": []
    },
    {
      "cell_type": "code",
      "source": [
        "import tensorflow as tf\n",
        "\n",
        "model1 = tf.keras.Sequential([\n",
        "    tf.keras.layers.LSTM(128, input_shape=(train_X.shape[1], train_X.shape[2]), return_sequences=True),\n",
        "    tf.keras.layers.BatchNormalization(),\n",
        "    tf.keras.layers.Dropout(0.1),\n",
        "    tf.keras.layers.LSTM(64, return_sequences =True),\n",
        "    tf.keras.layers.BatchNormalization(),\n",
        "    tf.keras.layers.Dropout(0.1),\n",
        "    tf.keras.layers.LSTM(32, return_sequences =False),\n",
        "    tf.keras.layers.BatchNormalization(),\n",
        "    tf.keras.layers.Dropout(0.1),\n",
        "    tf.keras.layers.Flatten(),\n",
        "    tf.keras.layers.Dense(208,activation='relu'),\n",
        "    tf.keras.layers.Dense(104, activation ='relu'),\n",
        "    tf.keras.layers.Dense(52, activation ='softmax')\n",
        "    ])\n",
        "\n",
        "# callbacks = [EarlyStopping(monitor='accuracy', patience = 15)]\n",
        "optim = tf.keras.optimizers.Adam(learning_rate=0.001)\n",
        "\n",
        "model1.compile(optimizer = optim,\n",
        "             loss='sparse_categorical_crossentropy',\n",
        "             metrics=['accuracy'])"
      ],
      "metadata": {
        "id": "DDpdcAF0pSLw"
      },
      "execution_count": null,
      "outputs": []
    },
    {
      "cell_type": "code",
      "source": [
        "history = model1.fit(train_X, train_y, \n",
        "                     validation_data =(val_X, val_y),\n",
        "                     batch_size =64,\n",
        "                     epochs =1000,\n",
        "                     #callbacks =callbacks,\n",
        "                     verbose=1) "
      ],
      "metadata": {
        "id": "oDZf22E9pT5n"
      },
      "execution_count": null,
      "outputs": []
    }
  ]
}